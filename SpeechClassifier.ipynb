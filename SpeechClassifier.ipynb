{
 "cells": [
  {
   "cell_type": "code",
   "execution_count": null,
   "id": "e5c1f1cb",
   "metadata": {},
   "outputs": [],
   "source": [
    "import numpy as np\n",
    "import matplotlib.pyplot as plt\n",
    "import scipy as sp\n",
    "import math\n",
    "from sklearn.base import BaseEstimator, ClassifierMixin\n",
    "from sklearn.model_selection import GridSearchCV"
   ]
  },
  {
   "cell_type": "code",
   "execution_count": null,
   "id": "6fea2aec",
   "metadata": {},
   "outputs": [],
   "source": []
  },
  {
   "cell_type": "code",
   "execution_count": null,
   "id": "aafeedd2",
   "metadata": {},
   "outputs": [],
   "source": [
    "words = np.zeros((10,10,100))"
   ]
  },
  {
   "cell_type": "code",
   "execution_count": null,
   "id": "f1b16c9c",
   "metadata": {},
   "outputs": [],
   "source": [
    "def NonLinearFunction(prob, confidence, sharpness=10):\n",
    "    return 2 / (1 + math.exp(-sharpness * (prob - confidence)))\n",
    "\n",
    "def AggregateFunction(scores):\n",
    "    product = 1.0\n",
    "    for s in scores:\n",
    "        product *= max(s, 1e-6)\n",
    "    return product ** (1.0 / len(scores)) if scores else 0\n",
    "\n",
    "def penalty_phenom():\n",
    "    return "
   ]
  },
  {
   "cell_type": "code",
   "execution_count": null,
   "id": "30d28e37",
   "metadata": {},
   "outputs": [],
   "source": [
    "class SpeechClassifier(BaseEstimator, ClassifierMixin):\n",
    "    def __init__(self, p_threshold=0.5, w_trehshold=0.5, confidence=0.5, sharpeness=1.0):\n",
    "        self.p_threshold = p_threshold\n",
    "        self.w_trehshold = w_trehshold\n",
    "        self.confidence = confidence\n",
    "        self.sharpeness = sharpeness\n",
    "\n",
    "    def fit(self, X, y):\n",
    "        self.words_ = X\n",
    "        self.targets_ = y\n",
    "        return self\n",
    "\n",
    "    def predict(self, X):\n",
    "        predictions = []\n",
    "        for target, words, deletion in zip(self.targets_, X):\n",
    "            result = self.classifier(target, words, deletion)\n",
    "            predictions.append(int(result))\n",
    "        return np.array(predictions)\n",
    "\n",
    "    def classifier(self, target, words, deletion=None):\n",
    "        S_t = target.shape[0]\n",
    "        for w in words:\n",
    "            S_w = w.shape[0]\n",
    "            for i in range(S_w - S_t + 1):\n",
    "                Scores = []\n",
    "                for pw, pt in zip(w[i:i + S_t], target):\n",
    "                    if deletion is not None and i!=0:\n",
    "                        if np.argmax(w[i-1]) == deletion:\n",
    "                            break\n",
    "                    s = 0\n",
    "                    prob = pw[pt]\n",
    "                    if prob > self.confidence:\n",
    "                        s = 1\n",
    "                    else:\n",
    "                        s = NonLinearFunction(prob, sharpeness=self.sharpeness, confidence=self.confidence)\n",
    "\n",
    "                    Scores.append(s)\n",
    "\n",
    "                if AggregateFunction(Scores) > self.w_trehshold:\n",
    "                    for score in Scores:\n",
    "                        if score < self.p_threshold:\n",
    "                            break\n",
    "                        return True\n",
    "        return False"
   ]
  },
  {
   "cell_type": "code",
   "execution_count": null,
   "id": "abb3cc7d",
   "metadata": {},
   "outputs": [],
   "source": [
    "param_grid = {\n",
    "    'p_threshold': [0.4, 0.5, 0.6],\n",
    "    'w_trehshold': [0.3, 0.5, 0.7],\n",
    "    'confidence': [0.4, 0.5, 0.6],\n",
    "    'sharpeness': [1.0, 2.0, 5.0]\n",
    "}\n",
    "\n",
    "grid = GridSearchCV(SpeechClassifier(), param_grid, scoring='precision', cv=4)\n",
    "grid.fit(X_data, y_labels)"
   ]
  }
 ],
 "metadata": {
  "language_info": {
   "name": "python"
  }
 },
 "nbformat": 4,
 "nbformat_minor": 5
}
