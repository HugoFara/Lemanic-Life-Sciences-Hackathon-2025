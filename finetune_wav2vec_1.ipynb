{
 "cells": [
  {
   "cell_type": "code",
   "execution_count": 6,
   "id": "9c89a8bc",
   "metadata": {},
   "outputs": [
    {
     "data": {
      "application/vnd.jupyter.widget-view+json": {
       "model_id": "6897cfd070af4d678292614f1bc95712",
       "version_major": 2,
       "version_minor": 0
      },
      "text/plain": [
       "VBox(children=(HTML(value='<center> <img\\nsrc=https://huggingface.co/front/assets/huggingface_logo-noborder.sv…"
      ]
     },
     "metadata": {},
     "output_type": "display_data"
    }
   ],
   "source": [
    "from huggingface_hub import notebook_login\n",
    "notebook_login()"
   ]
  },
  {
   "cell_type": "code",
   "execution_count": 8,
   "id": "7666124f",
   "metadata": {},
   "outputs": [],
   "source": [
    "from datasets import load_dataset, Audio, Dataset\n",
    "from evaluate import load as load_metric\n",
    "from tqdm.auto import tqdm\n",
    "\n",
    "import os\n",
    "import numpy as np\n",
    "import pandas as pd\n",
    "import torchaudio\n",
    "\n",
    "os.environ[\"WANDB_DISABLED\"] = \"true\""
   ]
  },
  {
   "cell_type": "code",
   "execution_count": 19,
   "id": "852455a0",
   "metadata": {},
   "outputs": [],
   "source": [
    "# timit_path = '/kaggle/input/darpa-timit-acousticphonetic-continuous-speech/'\n",
    "timit_path = '/home/zohreh/ownCloud/hackathon2025/local_test/archive'"
   ]
  },
  {
   "cell_type": "code",
   "execution_count": 20,
   "id": "1e1fb26f",
   "metadata": {},
   "outputs": [],
   "source": [
    "# data_path = '/kaggle/input/darpa-timit-acousticphonetic-continuous-speech/data/'\n",
    "data_path = '/home/zohreh/ownCloud/hackathon2025/local_test/archive/data/'"
   ]
  },
  {
   "cell_type": "code",
   "execution_count": 21,
   "id": "49a806cf",
   "metadata": {},
   "outputs": [],
   "source": [
    "\n",
    "\n",
    "df_train = pd.read_csv(os.path.join(timit_path, 'train_data.csv'))\n",
    "df_test = pd.read_csv(os.path.join(timit_path, 'test_data.csv'))\n",
    "df = pd.concat([df_train, df_test])\n",
    "df = df[df['is_converted_audio'] == False]\n",
    "\n"
   ]
  },
  {
   "cell_type": "code",
   "execution_count": 22,
   "id": "5d6a72a7",
   "metadata": {},
   "outputs": [
    {
     "data": {
      "application/vnd.microsoft.datawrangler.viewer.v0+json": {
       "columns": [
        {
         "name": "index",
         "rawType": "int64",
         "type": "integer"
        },
        {
         "name": "index",
         "rawType": "float64",
         "type": "float"
        },
        {
         "name": "test_or_train",
         "rawType": "object",
         "type": "string"
        },
        {
         "name": "dialect_region",
         "rawType": "object",
         "type": "string"
        },
        {
         "name": "speaker_id",
         "rawType": "object",
         "type": "string"
        },
        {
         "name": "filename",
         "rawType": "object",
         "type": "string"
        },
        {
         "name": "path_from_data_dir",
         "rawType": "object",
         "type": "string"
        },
        {
         "name": "path_from_data_dir_windows",
         "rawType": "object",
         "type": "string"
        },
        {
         "name": "is_converted_audio",
         "rawType": "object",
         "type": "unknown"
        },
        {
         "name": "is_audio",
         "rawType": "object",
         "type": "unknown"
        },
        {
         "name": "is_word_file",
         "rawType": "object",
         "type": "unknown"
        },
        {
         "name": "is_phonetic_file",
         "rawType": "object",
         "type": "unknown"
        },
        {
         "name": "is_sentence_file",
         "rawType": "object",
         "type": "unknown"
        }
       ],
       "conversionMethod": "pd.DataFrame",
       "ref": "3979383c-67b5-4994-97b3-1c26c142fcf9",
       "rows": [
        [
         "1",
         "2.0",
         "TRAIN",
         "DR4",
         "MMDM0",
         "SI1311.PHN",
         "TRAIN/DR4/MMDM0/SI1311.PHN",
         "TRAIN\\\\DR4\\\\MMDM0\\\\SI1311.PHN",
         "False",
         "False",
         "False",
         "True",
         "False"
        ],
        [
         "2",
         "3.0",
         "TRAIN",
         "DR4",
         "MMDM0",
         "SI1311.WRD",
         "TRAIN/DR4/MMDM0/SI1311.WRD",
         "TRAIN\\\\DR4\\\\MMDM0\\\\SI1311.WRD",
         "False",
         "False",
         "True",
         "False",
         "False"
        ],
        [
         "3",
         "4.0",
         "TRAIN",
         "DR4",
         "MMDM0",
         "SX321.PHN",
         "TRAIN/DR4/MMDM0/SX321.PHN",
         "TRAIN\\\\DR4\\\\MMDM0\\\\SX321.PHN",
         "False",
         "False",
         "False",
         "True",
         "False"
        ],
        [
         "4",
         "5.0",
         "TRAIN",
         "DR4",
         "MMDM0",
         "SX321.WRD",
         "TRAIN/DR4/MMDM0/SX321.WRD",
         "TRAIN\\\\DR4\\\\MMDM0\\\\SX321.WRD",
         "False",
         "False",
         "True",
         "False",
         "False"
        ],
        [
         "5",
         "6.0",
         "TRAIN",
         "DR4",
         "MMDM0",
         "SI681.TXT",
         "TRAIN/DR4/MMDM0/SI681.TXT",
         "TRAIN\\\\DR4\\\\MMDM0\\\\SI681.TXT",
         "False",
         "False",
         "False",
         "False",
         "True"
        ],
        [
         "7",
         "8.0",
         "TRAIN",
         "DR4",
         "MMDM0",
         "SI681.WAV",
         "TRAIN/DR4/MMDM0/SI681.WAV",
         "TRAIN\\\\DR4\\\\MMDM0\\\\SI681.WAV",
         "False",
         "True",
         "False",
         "False",
         "False"
        ],
        [
         "8",
         "9.0",
         "TRAIN",
         "DR4",
         "MMDM0",
         "SX51.PHN",
         "TRAIN/DR4/MMDM0/SX51.PHN",
         "TRAIN\\\\DR4\\\\MMDM0\\\\SX51.PHN",
         "False",
         "False",
         "False",
         "True",
         "False"
        ],
        [
         "9",
         "10.0",
         "TRAIN",
         "DR4",
         "MMDM0",
         "SX231.WRD",
         "TRAIN/DR4/MMDM0/SX231.WRD",
         "TRAIN\\\\DR4\\\\MMDM0\\\\SX231.WRD",
         "False",
         "False",
         "True",
         "False",
         "False"
        ],
        [
         "11",
         "12.0",
         "TRAIN",
         "DR4",
         "MMDM0",
         "SX51.WRD",
         "TRAIN/DR4/MMDM0/SX51.WRD",
         "TRAIN\\\\DR4\\\\MMDM0\\\\SX51.WRD",
         "False",
         "False",
         "True",
         "False",
         "False"
        ],
        [
         "12",
         "13.0",
         "TRAIN",
         "DR4",
         "MMDM0",
         "SX231.PHN",
         "TRAIN/DR4/MMDM0/SX231.PHN",
         "TRAIN\\\\DR4\\\\MMDM0\\\\SX231.PHN",
         "False",
         "False",
         "False",
         "True",
         "False"
        ],
        [
         "14",
         "15.0",
         "TRAIN",
         "DR4",
         "MMDM0",
         "SI1941.WRD",
         "TRAIN/DR4/MMDM0/SI1941.WRD",
         "TRAIN\\\\DR4\\\\MMDM0\\\\SI1941.WRD",
         "False",
         "False",
         "True",
         "False",
         "False"
        ],
        [
         "15",
         "16.0",
         "TRAIN",
         "DR4",
         "MMDM0",
         "SX141.WRD",
         "TRAIN/DR4/MMDM0/SX141.WRD",
         "TRAIN\\\\DR4\\\\MMDM0\\\\SX141.WRD",
         "False",
         "False",
         "True",
         "False",
         "False"
        ],
        [
         "16",
         "17.0",
         "TRAIN",
         "DR4",
         "MMDM0",
         "SA1.TXT",
         "TRAIN/DR4/MMDM0/SA1.TXT",
         "TRAIN\\\\DR4\\\\MMDM0\\\\SA1.TXT",
         "False",
         "False",
         "False",
         "False",
         "True"
        ],
        [
         "17",
         "18.0",
         "TRAIN",
         "DR4",
         "MMDM0",
         "SA2.WAV",
         "TRAIN/DR4/MMDM0/SA2.WAV",
         "TRAIN\\\\DR4\\\\MMDM0\\\\SA2.WAV",
         "False",
         "True",
         "False",
         "False",
         "False"
        ],
        [
         "18",
         "19.0",
         "TRAIN",
         "DR4",
         "MMDM0",
         "SX141.PHN",
         "TRAIN/DR4/MMDM0/SX141.PHN",
         "TRAIN\\\\DR4\\\\MMDM0\\\\SX141.PHN",
         "False",
         "False",
         "False",
         "True",
         "False"
        ],
        [
         "19",
         "20.0",
         "TRAIN",
         "DR4",
         "MMDM0",
         "SX411.WAV",
         "TRAIN/DR4/MMDM0/SX411.WAV",
         "TRAIN\\\\DR4\\\\MMDM0\\\\SX411.WAV",
         "False",
         "True",
         "False",
         "False",
         "False"
        ],
        [
         "20",
         "21.0",
         "TRAIN",
         "DR4",
         "MMDM0",
         "SI1941.PHN",
         "TRAIN/DR4/MMDM0/SI1941.PHN",
         "TRAIN\\\\DR4\\\\MMDM0\\\\SI1941.PHN",
         "False",
         "False",
         "False",
         "True",
         "False"
        ],
        [
         "21",
         "22.0",
         "TRAIN",
         "DR4",
         "MMDM0",
         "SA2.TXT",
         "TRAIN/DR4/MMDM0/SA2.TXT",
         "TRAIN\\\\DR4\\\\MMDM0\\\\SA2.TXT",
         "False",
         "False",
         "False",
         "False",
         "True"
        ],
        [
         "22",
         "23.0",
         "TRAIN",
         "DR4",
         "MMDM0",
         "SA1.WAV",
         "TRAIN/DR4/MMDM0/SA1.WAV",
         "TRAIN\\\\DR4\\\\MMDM0\\\\SA1.WAV",
         "False",
         "True",
         "False",
         "False",
         "False"
        ],
        [
         "24",
         "25.0",
         "TRAIN",
         "DR4",
         "MMDM0",
         "SX411.TXT",
         "TRAIN/DR4/MMDM0/SX411.TXT",
         "TRAIN\\\\DR4\\\\MMDM0\\\\SX411.TXT",
         "False",
         "False",
         "False",
         "False",
         "True"
        ],
        [
         "25",
         "26.0",
         "TRAIN",
         "DR4",
         "MMDM0",
         "SX231.WAV",
         "TRAIN/DR4/MMDM0/SX231.WAV",
         "TRAIN\\\\DR4\\\\MMDM0\\\\SX231.WAV",
         "False",
         "True",
         "False",
         "False",
         "False"
        ],
        [
         "26",
         "27.0",
         "TRAIN",
         "DR4",
         "MMDM0",
         "SX51.WAV",
         "TRAIN/DR4/MMDM0/SX51.WAV",
         "TRAIN\\\\DR4\\\\MMDM0\\\\SX51.WAV",
         "False",
         "True",
         "False",
         "False",
         "False"
        ],
        [
         "27",
         "28.0",
         "TRAIN",
         "DR4",
         "MMDM0",
         "SX231.TXT",
         "TRAIN/DR4/MMDM0/SX231.TXT",
         "TRAIN\\\\DR4\\\\MMDM0\\\\SX231.TXT",
         "False",
         "False",
         "False",
         "False",
         "True"
        ],
        [
         "29",
         "30.0",
         "TRAIN",
         "DR4",
         "MMDM0",
         "SX51.TXT",
         "TRAIN/DR4/MMDM0/SX51.TXT",
         "TRAIN\\\\DR4\\\\MMDM0\\\\SX51.TXT",
         "False",
         "False",
         "False",
         "False",
         "True"
        ],
        [
         "30",
         "31.0",
         "TRAIN",
         "DR4",
         "MMDM0",
         "SX141.WAV",
         "TRAIN/DR4/MMDM0/SX141.WAV",
         "TRAIN\\\\DR4\\\\MMDM0\\\\SX141.WAV",
         "False",
         "True",
         "False",
         "False",
         "False"
        ],
        [
         "31",
         "32.0",
         "TRAIN",
         "DR4",
         "MMDM0",
         "SA2.PHN",
         "TRAIN/DR4/MMDM0/SA2.PHN",
         "TRAIN\\\\DR4\\\\MMDM0\\\\SA2.PHN",
         "False",
         "False",
         "False",
         "True",
         "False"
        ],
        [
         "33",
         "34.0",
         "TRAIN",
         "DR4",
         "MMDM0",
         "SI1941.WAV",
         "TRAIN/DR4/MMDM0/SI1941.WAV",
         "TRAIN\\\\DR4\\\\MMDM0\\\\SI1941.WAV",
         "False",
         "True",
         "False",
         "False",
         "False"
        ],
        [
         "34",
         "35.0",
         "TRAIN",
         "DR4",
         "MMDM0",
         "SX411.PHN",
         "TRAIN/DR4/MMDM0/SX411.PHN",
         "TRAIN\\\\DR4\\\\MMDM0\\\\SX411.PHN",
         "False",
         "False",
         "False",
         "True",
         "False"
        ],
        [
         "35",
         "36.0",
         "TRAIN",
         "DR4",
         "MMDM0",
         "SX411.WRD",
         "TRAIN/DR4/MMDM0/SX411.WRD",
         "TRAIN\\\\DR4\\\\MMDM0\\\\SX411.WRD",
         "False",
         "False",
         "True",
         "False",
         "False"
        ],
        [
         "36",
         "37.0",
         "TRAIN",
         "DR4",
         "MMDM0",
         "SA2.WRD",
         "TRAIN/DR4/MMDM0/SA2.WRD",
         "TRAIN\\\\DR4\\\\MMDM0\\\\SA2.WRD",
         "False",
         "False",
         "True",
         "False",
         "False"
        ],
        [
         "37",
         "38.0",
         "TRAIN",
         "DR4",
         "MMDM0",
         "SX141.TXT",
         "TRAIN/DR4/MMDM0/SX141.TXT",
         "TRAIN\\\\DR4\\\\MMDM0\\\\SX141.TXT",
         "False",
         "False",
         "False",
         "False",
         "True"
        ],
        [
         "39",
         "40.0",
         "TRAIN",
         "DR4",
         "MMDM0",
         "SA1.PHN",
         "TRAIN/DR4/MMDM0/SA1.PHN",
         "TRAIN\\\\DR4\\\\MMDM0\\\\SA1.PHN",
         "False",
         "False",
         "False",
         "True",
         "False"
        ],
        [
         "40",
         "41.0",
         "TRAIN",
         "DR4",
         "MMDM0",
         "SI1941.TXT",
         "TRAIN/DR4/MMDM0/SI1941.TXT",
         "TRAIN\\\\DR4\\\\MMDM0\\\\SI1941.TXT",
         "False",
         "False",
         "False",
         "False",
         "True"
        ],
        [
         "41",
         "42.0",
         "TRAIN",
         "DR4",
         "MMDM0",
         "SA1.WRD",
         "TRAIN/DR4/MMDM0/SA1.WRD",
         "TRAIN\\\\DR4\\\\MMDM0\\\\SA1.WRD",
         "False",
         "False",
         "True",
         "False",
         "False"
        ],
        [
         "42",
         "43.0",
         "TRAIN",
         "DR4",
         "MMDM0",
         "SI1311.TXT",
         "TRAIN/DR4/MMDM0/SI1311.TXT",
         "TRAIN\\\\DR4\\\\MMDM0\\\\SI1311.TXT",
         "False",
         "False",
         "False",
         "False",
         "True"
        ],
        [
         "43",
         "44.0",
         "TRAIN",
         "DR4",
         "MMDM0",
         "SI1311.WAV",
         "TRAIN/DR4/MMDM0/SI1311.WAV",
         "TRAIN\\\\DR4\\\\MMDM0\\\\SI1311.WAV",
         "False",
         "True",
         "False",
         "False",
         "False"
        ],
        [
         "46",
         "47.0",
         "TRAIN",
         "DR4",
         "MMDM0",
         "SX321.WAV",
         "TRAIN/DR4/MMDM0/SX321.WAV",
         "TRAIN\\\\DR4\\\\MMDM0\\\\SX321.WAV",
         "False",
         "True",
         "False",
         "False",
         "False"
        ],
        [
         "47",
         "48.0",
         "TRAIN",
         "DR4",
         "MMDM0",
         "SI681.PHN",
         "TRAIN/DR4/MMDM0/SI681.PHN",
         "TRAIN\\\\DR4\\\\MMDM0\\\\SI681.PHN",
         "False",
         "False",
         "False",
         "True",
         "False"
        ],
        [
         "48",
         "49.0",
         "TRAIN",
         "DR4",
         "MMDM0",
         "SI681.WRD",
         "TRAIN/DR4/MMDM0/SI681.WRD",
         "TRAIN\\\\DR4\\\\MMDM0\\\\SI681.WRD",
         "False",
         "False",
         "True",
         "False",
         "False"
        ],
        [
         "49",
         "50.0",
         "TRAIN",
         "DR4",
         "MMDM0",
         "SX321.TXT",
         "TRAIN/DR4/MMDM0/SX321.TXT",
         "TRAIN\\\\DR4\\\\MMDM0\\\\SX321.TXT",
         "False",
         "False",
         "False",
         "False",
         "True"
        ],
        [
         "52",
         "53.0",
         "TRAIN",
         "DR4",
         "MCSS0",
         "SX30.WRD",
         "TRAIN/DR4/MCSS0/SX30.WRD",
         "TRAIN\\\\DR4\\\\MCSS0\\\\SX30.WRD",
         "False",
         "False",
         "True",
         "False",
         "False"
        ],
        [
         "54",
         "55.0",
         "TRAIN",
         "DR4",
         "MCSS0",
         "SX30.PHN",
         "TRAIN/DR4/MCSS0/SX30.PHN",
         "TRAIN\\\\DR4\\\\MCSS0\\\\SX30.PHN",
         "False",
         "False",
         "False",
         "True",
         "False"
        ],
        [
         "57",
         "58.0",
         "TRAIN",
         "DR4",
         "MCSS0",
         "SX300.WAV",
         "TRAIN/DR4/MCSS0/SX300.WAV",
         "TRAIN\\\\DR4\\\\MCSS0\\\\SX300.WAV",
         "False",
         "True",
         "False",
         "False",
         "False"
        ],
        [
         "58",
         "59.0",
         "TRAIN",
         "DR4",
         "MCSS0",
         "SX120.PHN",
         "TRAIN/DR4/MCSS0/SX120.PHN",
         "TRAIN\\\\DR4\\\\MCSS0\\\\SX120.PHN",
         "False",
         "False",
         "False",
         "True",
         "False"
        ],
        [
         "59",
         "60.0",
         "TRAIN",
         "DR4",
         "MCSS0",
         "SI688.PHN",
         "TRAIN/DR4/MCSS0/SI688.PHN",
         "TRAIN\\\\DR4\\\\MCSS0\\\\SI688.PHN",
         "False",
         "False",
         "False",
         "True",
         "False"
        ],
        [
         "60",
         "61.0",
         "TRAIN",
         "DR4",
         "MCSS0",
         "SI688.WRD",
         "TRAIN/DR4/MCSS0/SI688.WRD",
         "TRAIN\\\\DR4\\\\MCSS0\\\\SI688.WRD",
         "False",
         "False",
         "True",
         "False",
         "False"
        ],
        [
         "61",
         "62.0",
         "TRAIN",
         "DR4",
         "MCSS0",
         "SX120.WRD",
         "TRAIN/DR4/MCSS0/SX120.WRD",
         "TRAIN\\\\DR4\\\\MCSS0\\\\SX120.WRD",
         "False",
         "False",
         "True",
         "False",
         "False"
        ],
        [
         "62",
         "63.0",
         "TRAIN",
         "DR4",
         "MCSS0",
         "SX300.TXT",
         "TRAIN/DR4/MCSS0/SX300.TXT",
         "TRAIN\\\\DR4\\\\MCSS0\\\\SX300.TXT",
         "False",
         "False",
         "False",
         "False",
         "True"
        ],
        [
         "63",
         "64.0",
         "TRAIN",
         "DR4",
         "MCSS0",
         "SX210.WAV",
         "TRAIN/DR4/MCSS0/SX210.WAV",
         "TRAIN\\\\DR4\\\\MCSS0\\\\SX210.WAV",
         "False",
         "True",
         "False",
         "False",
         "False"
        ],
        [
         "64",
         "65.0",
         "TRAIN",
         "DR4",
         "MCSS0",
         "SI750.WAV",
         "TRAIN/DR4/MCSS0/SI750.WAV",
         "TRAIN\\\\DR4\\\\MCSS0\\\\SI750.WAV",
         "False",
         "True",
         "False",
         "False",
         "False"
        ]
       ],
       "shape": {
        "columns": 12,
        "rows": 25200
       }
      },
      "text/html": [
       "<div>\n",
       "<style scoped>\n",
       "    .dataframe tbody tr th:only-of-type {\n",
       "        vertical-align: middle;\n",
       "    }\n",
       "\n",
       "    .dataframe tbody tr th {\n",
       "        vertical-align: top;\n",
       "    }\n",
       "\n",
       "    .dataframe thead th {\n",
       "        text-align: right;\n",
       "    }\n",
       "</style>\n",
       "<table border=\"1\" class=\"dataframe\">\n",
       "  <thead>\n",
       "    <tr style=\"text-align: right;\">\n",
       "      <th></th>\n",
       "      <th>index</th>\n",
       "      <th>test_or_train</th>\n",
       "      <th>dialect_region</th>\n",
       "      <th>speaker_id</th>\n",
       "      <th>filename</th>\n",
       "      <th>path_from_data_dir</th>\n",
       "      <th>path_from_data_dir_windows</th>\n",
       "      <th>is_converted_audio</th>\n",
       "      <th>is_audio</th>\n",
       "      <th>is_word_file</th>\n",
       "      <th>is_phonetic_file</th>\n",
       "      <th>is_sentence_file</th>\n",
       "    </tr>\n",
       "  </thead>\n",
       "  <tbody>\n",
       "    <tr>\n",
       "      <th>1</th>\n",
       "      <td>2.0</td>\n",
       "      <td>TRAIN</td>\n",
       "      <td>DR4</td>\n",
       "      <td>MMDM0</td>\n",
       "      <td>SI1311.PHN</td>\n",
       "      <td>TRAIN/DR4/MMDM0/SI1311.PHN</td>\n",
       "      <td>TRAIN\\\\DR4\\\\MMDM0\\\\SI1311.PHN</td>\n",
       "      <td>False</td>\n",
       "      <td>False</td>\n",
       "      <td>False</td>\n",
       "      <td>True</td>\n",
       "      <td>False</td>\n",
       "    </tr>\n",
       "    <tr>\n",
       "      <th>2</th>\n",
       "      <td>3.0</td>\n",
       "      <td>TRAIN</td>\n",
       "      <td>DR4</td>\n",
       "      <td>MMDM0</td>\n",
       "      <td>SI1311.WRD</td>\n",
       "      <td>TRAIN/DR4/MMDM0/SI1311.WRD</td>\n",
       "      <td>TRAIN\\\\DR4\\\\MMDM0\\\\SI1311.WRD</td>\n",
       "      <td>False</td>\n",
       "      <td>False</td>\n",
       "      <td>True</td>\n",
       "      <td>False</td>\n",
       "      <td>False</td>\n",
       "    </tr>\n",
       "    <tr>\n",
       "      <th>3</th>\n",
       "      <td>4.0</td>\n",
       "      <td>TRAIN</td>\n",
       "      <td>DR4</td>\n",
       "      <td>MMDM0</td>\n",
       "      <td>SX321.PHN</td>\n",
       "      <td>TRAIN/DR4/MMDM0/SX321.PHN</td>\n",
       "      <td>TRAIN\\\\DR4\\\\MMDM0\\\\SX321.PHN</td>\n",
       "      <td>False</td>\n",
       "      <td>False</td>\n",
       "      <td>False</td>\n",
       "      <td>True</td>\n",
       "      <td>False</td>\n",
       "    </tr>\n",
       "    <tr>\n",
       "      <th>4</th>\n",
       "      <td>5.0</td>\n",
       "      <td>TRAIN</td>\n",
       "      <td>DR4</td>\n",
       "      <td>MMDM0</td>\n",
       "      <td>SX321.WRD</td>\n",
       "      <td>TRAIN/DR4/MMDM0/SX321.WRD</td>\n",
       "      <td>TRAIN\\\\DR4\\\\MMDM0\\\\SX321.WRD</td>\n",
       "      <td>False</td>\n",
       "      <td>False</td>\n",
       "      <td>True</td>\n",
       "      <td>False</td>\n",
       "      <td>False</td>\n",
       "    </tr>\n",
       "    <tr>\n",
       "      <th>5</th>\n",
       "      <td>6.0</td>\n",
       "      <td>TRAIN</td>\n",
       "      <td>DR4</td>\n",
       "      <td>MMDM0</td>\n",
       "      <td>SI681.TXT</td>\n",
       "      <td>TRAIN/DR4/MMDM0/SI681.TXT</td>\n",
       "      <td>TRAIN\\\\DR4\\\\MMDM0\\\\SI681.TXT</td>\n",
       "      <td>False</td>\n",
       "      <td>False</td>\n",
       "      <td>False</td>\n",
       "      <td>False</td>\n",
       "      <td>True</td>\n",
       "    </tr>\n",
       "    <tr>\n",
       "      <th>...</th>\n",
       "      <td>...</td>\n",
       "      <td>...</td>\n",
       "      <td>...</td>\n",
       "      <td>...</td>\n",
       "      <td>...</td>\n",
       "      <td>...</td>\n",
       "      <td>...</td>\n",
       "      <td>...</td>\n",
       "      <td>...</td>\n",
       "      <td>...</td>\n",
       "      <td>...</td>\n",
       "      <td>...</td>\n",
       "    </tr>\n",
       "    <tr>\n",
       "      <th>8394</th>\n",
       "      <td>8395.0</td>\n",
       "      <td>TEST</td>\n",
       "      <td>DR8</td>\n",
       "      <td>MPAM0</td>\n",
       "      <td>SX19.WAV</td>\n",
       "      <td>TEST/DR8/MPAM0/SX19.WAV</td>\n",
       "      <td>TEST\\\\DR8\\\\MPAM0\\\\SX19.WAV</td>\n",
       "      <td>False</td>\n",
       "      <td>True</td>\n",
       "      <td>False</td>\n",
       "      <td>False</td>\n",
       "      <td>False</td>\n",
       "    </tr>\n",
       "    <tr>\n",
       "      <th>8395</th>\n",
       "      <td>8396.0</td>\n",
       "      <td>TEST</td>\n",
       "      <td>DR8</td>\n",
       "      <td>MPAM0</td>\n",
       "      <td>SX109.TXT</td>\n",
       "      <td>TEST/DR8/MPAM0/SX109.TXT</td>\n",
       "      <td>TEST\\\\DR8\\\\MPAM0\\\\SX109.TXT</td>\n",
       "      <td>False</td>\n",
       "      <td>False</td>\n",
       "      <td>False</td>\n",
       "      <td>False</td>\n",
       "      <td>True</td>\n",
       "    </tr>\n",
       "    <tr>\n",
       "      <th>8397</th>\n",
       "      <td>8398.0</td>\n",
       "      <td>TEST</td>\n",
       "      <td>DR8</td>\n",
       "      <td>MPAM0</td>\n",
       "      <td>SX289.WRD</td>\n",
       "      <td>TEST/DR8/MPAM0/SX289.WRD</td>\n",
       "      <td>TEST\\\\DR8\\\\MPAM0\\\\SX289.WRD</td>\n",
       "      <td>False</td>\n",
       "      <td>False</td>\n",
       "      <td>True</td>\n",
       "      <td>False</td>\n",
       "      <td>False</td>\n",
       "    </tr>\n",
       "    <tr>\n",
       "      <th>8398</th>\n",
       "      <td>8399.0</td>\n",
       "      <td>TEST</td>\n",
       "      <td>DR8</td>\n",
       "      <td>MPAM0</td>\n",
       "      <td>SX109.WAV</td>\n",
       "      <td>TEST/DR8/MPAM0/SX109.WAV</td>\n",
       "      <td>TEST\\\\DR8\\\\MPAM0\\\\SX109.WAV</td>\n",
       "      <td>False</td>\n",
       "      <td>True</td>\n",
       "      <td>False</td>\n",
       "      <td>False</td>\n",
       "      <td>False</td>\n",
       "    </tr>\n",
       "    <tr>\n",
       "      <th>8399</th>\n",
       "      <td>8400.0</td>\n",
       "      <td>TEST</td>\n",
       "      <td>DR8</td>\n",
       "      <td>MPAM0</td>\n",
       "      <td>SX289.PHN</td>\n",
       "      <td>TEST/DR8/MPAM0/SX289.PHN</td>\n",
       "      <td>TEST\\\\DR8\\\\MPAM0\\\\SX289.PHN</td>\n",
       "      <td>False</td>\n",
       "      <td>False</td>\n",
       "      <td>False</td>\n",
       "      <td>True</td>\n",
       "      <td>False</td>\n",
       "    </tr>\n",
       "  </tbody>\n",
       "</table>\n",
       "<p>25200 rows × 12 columns</p>\n",
       "</div>"
      ],
      "text/plain": [
       "       index test_or_train dialect_region speaker_id    filename  \\\n",
       "1        2.0         TRAIN            DR4      MMDM0  SI1311.PHN   \n",
       "2        3.0         TRAIN            DR4      MMDM0  SI1311.WRD   \n",
       "3        4.0         TRAIN            DR4      MMDM0   SX321.PHN   \n",
       "4        5.0         TRAIN            DR4      MMDM0   SX321.WRD   \n",
       "5        6.0         TRAIN            DR4      MMDM0   SI681.TXT   \n",
       "...      ...           ...            ...        ...         ...   \n",
       "8394  8395.0          TEST            DR8      MPAM0    SX19.WAV   \n",
       "8395  8396.0          TEST            DR8      MPAM0   SX109.TXT   \n",
       "8397  8398.0          TEST            DR8      MPAM0   SX289.WRD   \n",
       "8398  8399.0          TEST            DR8      MPAM0   SX109.WAV   \n",
       "8399  8400.0          TEST            DR8      MPAM0   SX289.PHN   \n",
       "\n",
       "              path_from_data_dir     path_from_data_dir_windows  \\\n",
       "1     TRAIN/DR4/MMDM0/SI1311.PHN  TRAIN\\\\DR4\\\\MMDM0\\\\SI1311.PHN   \n",
       "2     TRAIN/DR4/MMDM0/SI1311.WRD  TRAIN\\\\DR4\\\\MMDM0\\\\SI1311.WRD   \n",
       "3      TRAIN/DR4/MMDM0/SX321.PHN   TRAIN\\\\DR4\\\\MMDM0\\\\SX321.PHN   \n",
       "4      TRAIN/DR4/MMDM0/SX321.WRD   TRAIN\\\\DR4\\\\MMDM0\\\\SX321.WRD   \n",
       "5      TRAIN/DR4/MMDM0/SI681.TXT   TRAIN\\\\DR4\\\\MMDM0\\\\SI681.TXT   \n",
       "...                          ...                            ...   \n",
       "8394     TEST/DR8/MPAM0/SX19.WAV     TEST\\\\DR8\\\\MPAM0\\\\SX19.WAV   \n",
       "8395    TEST/DR8/MPAM0/SX109.TXT    TEST\\\\DR8\\\\MPAM0\\\\SX109.TXT   \n",
       "8397    TEST/DR8/MPAM0/SX289.WRD    TEST\\\\DR8\\\\MPAM0\\\\SX289.WRD   \n",
       "8398    TEST/DR8/MPAM0/SX109.WAV    TEST\\\\DR8\\\\MPAM0\\\\SX109.WAV   \n",
       "8399    TEST/DR8/MPAM0/SX289.PHN    TEST\\\\DR8\\\\MPAM0\\\\SX289.PHN   \n",
       "\n",
       "     is_converted_audio is_audio is_word_file is_phonetic_file  \\\n",
       "1                 False    False        False             True   \n",
       "2                 False    False         True            False   \n",
       "3                 False    False        False             True   \n",
       "4                 False    False         True            False   \n",
       "5                 False    False        False            False   \n",
       "...                 ...      ...          ...              ...   \n",
       "8394              False     True        False            False   \n",
       "8395              False    False        False            False   \n",
       "8397              False    False         True            False   \n",
       "8398              False     True        False            False   \n",
       "8399              False    False        False             True   \n",
       "\n",
       "     is_sentence_file  \n",
       "1               False  \n",
       "2               False  \n",
       "3               False  \n",
       "4               False  \n",
       "5                True  \n",
       "...               ...  \n",
       "8394            False  \n",
       "8395             True  \n",
       "8397            False  \n",
       "8398            False  \n",
       "8399            False  \n",
       "\n",
       "[25200 rows x 12 columns]"
      ]
     },
     "execution_count": 22,
     "metadata": {},
     "output_type": "execute_result"
    }
   ],
   "source": [
    "df"
   ]
  },
  {
   "cell_type": "code",
   "execution_count": 23,
   "id": "e06390a2",
   "metadata": {},
   "outputs": [
    {
     "data": {
      "application/vnd.jupyter.widget-view+json": {
       "model_id": "424234a0d6df45829d7ad0127d0521d8",
       "version_major": 2,
       "version_minor": 0
      },
      "text/plain": [
       "0it [00:00, ?it/s]"
      ]
     },
     "metadata": {},
     "output_type": "display_data"
    }
   ],
   "source": [
    "\n",
    "\n",
    "data = {}\n",
    "\n",
    "for idx, row in tqdm(df.iterrows()):\n",
    "    path = row['path_from_data_dir']\n",
    "    entry_id = path.split('.')[0]\n",
    "\n",
    "    if entry_id not in data:\n",
    "        data[entry_id] = {}\n",
    "\n",
    "    if row['is_audio'] is True:\n",
    "        data[entry_id]['audio_file'] = os.path.join(data_path, path)\n",
    "    elif row['is_word_file'] is True:\n",
    "        data[entry_id]['word_file'] = os.path.join(data_path, path)\n",
    "    elif row['is_phonetic_file'] is True:\n",
    "        data[entry_id]['phonetic_file'] = os.path.join(data_path, path)\n",
    "\n"
   ]
  },
  {
   "cell_type": "code",
   "execution_count": 24,
   "id": "d2c48157",
   "metadata": {},
   "outputs": [],
   "source": [
    "import random\n",
    "\n",
    "keys = [key for key in data.keys() if len(data[key]) == 3]\n",
    "random.Random(101).shuffle(keys)\n",
    "\n",
    "num_train = int(len(keys) * 0.8)\n",
    "num_valid = int(len(keys) * 0.1)\n",
    "num_test = len(keys) - num_train - num_valid\n",
    "\n",
    "train_keys = keys[:num_train]\n",
    "valid_keys = keys[num_train:num_train + num_valid]\n",
    "test_keys = keys[-num_test:]"
   ]
  },
  {
   "cell_type": "code",
   "execution_count": 25,
   "id": "8d1a9ff7",
   "metadata": {},
   "outputs": [],
   "source": [
    "train = { key:data[key] for key in train_keys }\n",
    "valid = { key:data[key] for key in valid_keys }\n",
    "test  = { key:data[key] for key in test_keys }\n"
   ]
  },
  {
   "cell_type": "code",
   "execution_count": 26,
   "id": "30604c67",
   "metadata": {},
   "outputs": [],
   "source": [
    "\n",
    "\n",
    "import librosa\n",
    "\n",
    "def get_durations(dict_data):\n",
    "    total_durations = 0\n",
    "\n",
    "    for entry in dict_data.values():\n",
    "        audio_data, _ = librosa.load(entry['audio_file'], sr=16_000)\n",
    "        duration = len(audio_data) / 16_000\n",
    "        total_durations += duration\n",
    "\n",
    "    return int(total_durations)\n",
    "\n"
   ]
  },
  {
   "cell_type": "code",
   "execution_count": 27,
   "id": "7c17ebe1",
   "metadata": {},
   "outputs": [
    {
     "name": "stdout",
     "output_type": "stream",
     "text": [
      "Duration of Train: 137 mns\n",
      "Duration of Valid: 17 mns\n",
      "Duration of Test : 17 mns\n",
      "Duration of Valid: 17 mns\n",
      "Duration of Test : 17 mns\n"
     ]
    }
   ],
   "source": [
    "\n",
    "\n",
    "print(f\"Duration of Train: {get_durations(train) // 60} mns\")\n",
    "print(f\"Duration of Valid: {get_durations(valid) // 60} mns\")\n",
    "print(f\"Duration of Test : {get_durations(test) // 60} mns\")\n",
    "\n"
   ]
  },
  {
   "cell_type": "code",
   "execution_count": 30,
   "id": "6e5e573b",
   "metadata": {},
   "outputs": [],
   "source": [
    "\n",
    "\n",
    "import json\n",
    "\n",
    "with open(\"/home/zohreh/ownCloud/hackathon2025/local_test/kaggle/working/custom_train.json\", \"w\") as f:\n",
    "    json.dump(train, f)\n",
    "with open(\"/home/zohreh/ownCloud/hackathon2025/local_test/kaggle/working/custom_valid.json\", \"w\") as f:\n",
    "    json.dump(valid, f)\n",
    "with open(\"/home/zohreh/ownCloud/hackathon2025/local_test/kaggle/working/custom_test.json\", \"w\") as f:\n",
    "    json.dump(test, f)\n",
    "\n"
   ]
  },
  {
   "cell_type": "code",
   "execution_count": 31,
   "id": "06736907",
   "metadata": {},
   "outputs": [],
   "source": [
    "def convert_to_feature_dict(data_dict):\n",
    "    # convert each feature into an array instead\n",
    "    audio_files = []\n",
    "    word_files = []\n",
    "    phonetic_files = []\n",
    "    for key, value in data_dict.items():\n",
    "        audio_files.append(value['audio_file'])\n",
    "        word_files.append(value['word_file'])\n",
    "        phonetic_files.append(value['phonetic_file'])\n",
    "\n",
    "    return {\n",
    "        'audio_file': audio_files,\n",
    "        'word_file': word_files,\n",
    "        'phonetic_file': phonetic_files\n",
    "    }\n"
   ]
  },
  {
   "cell_type": "code",
   "execution_count": 32,
   "id": "65419900",
   "metadata": {},
   "outputs": [],
   "source": [
    "\n",
    "\n",
    "train = convert_to_feature_dict(train)\n",
    "valid = convert_to_feature_dict(valid)\n",
    "test  = convert_to_feature_dict(test)\n",
    "\n"
   ]
  },
  {
   "cell_type": "code",
   "execution_count": 33,
   "id": "858f7016",
   "metadata": {},
   "outputs": [],
   "source": [
    "train_dataset = Dataset.from_dict(train)\n",
    "valid_dataset = Dataset.from_dict(valid)\n",
    "test_dataset = Dataset.from_dict(test)"
   ]
  },
  {
   "cell_type": "code",
   "execution_count": 34,
   "id": "f772080b",
   "metadata": {},
   "outputs": [
    {
     "name": "stdout",
     "output_type": "stream",
     "text": [
      "Dataset({\n",
      "    features: ['audio_file', 'word_file', 'phonetic_file'],\n",
      "    num_rows: 2688\n",
      "})\n"
     ]
    }
   ],
   "source": [
    "\n",
    "\n",
    "print(train_dataset)\n",
    "\n"
   ]
  },
  {
   "cell_type": "code",
   "execution_count": 35,
   "id": "5f2f7157",
   "metadata": {},
   "outputs": [],
   "source": [
    "\n",
    "\n",
    "def read_text_file(filepath):\n",
    "    with open(filepath) as f:\n",
    "        tokens = [line.split()[-1] for line in f]\n",
    "        return \" \".join(tokens)\n",
    "\n",
    "def prepare_text_data(item):\n",
    "    item['text'] = read_text_file(item['word_file'])\n",
    "    item['phonetic'] = read_text_file(item['phonetic_file'])\n",
    "    return item\n",
    "\n"
   ]
  },
  {
   "cell_type": "code",
   "execution_count": 36,
   "id": "1e34bbb8",
   "metadata": {},
   "outputs": [
    {
     "data": {
      "application/vnd.jupyter.widget-view+json": {
       "model_id": "c9ec5d495f384cc39f832e1454aef3d5",
       "version_major": 2,
       "version_minor": 0
      },
      "text/plain": [
       "Map:   0%|          | 0/2688 [00:00<?, ? examples/s]"
      ]
     },
     "metadata": {},
     "output_type": "display_data"
    },
    {
     "data": {
      "application/vnd.jupyter.widget-view+json": {
       "model_id": "e9b9e1ab7c7f4534921f9d796cd08d7e",
       "version_major": 2,
       "version_minor": 0
      },
      "text/plain": [
       "Map:   0%|          | 0/336 [00:00<?, ? examples/s]"
      ]
     },
     "metadata": {},
     "output_type": "display_data"
    },
    {
     "data": {
      "application/vnd.jupyter.widget-view+json": {
       "model_id": "ce1fabfa4c2342cca3ced4fb5addbcc4",
       "version_major": 2,
       "version_minor": 0
      },
      "text/plain": [
       "Map:   0%|          | 0/336 [00:00<?, ? examples/s]"
      ]
     },
     "metadata": {},
     "output_type": "display_data"
    }
   ],
   "source": [
    "\n",
    "\n",
    "train_dataset = (train_dataset\n",
    "                 .map(prepare_text_data)\n",
    "                 .remove_columns([\"word_file\", \"phonetic_file\"]))\n",
    "valid_dataset = (valid_dataset\n",
    "                 .map(prepare_text_data)\n",
    "                 .remove_columns([\"word_file\", \"phonetic_file\"]))\n",
    "test_dataset  = (test_dataset\n",
    "                 .map(prepare_text_data)\n",
    "                 .remove_columns([\"word_file\", \"phonetic_file\"]))\n",
    "\n"
   ]
  },
  {
   "cell_type": "code",
   "execution_count": 37,
   "id": "e8700e6b",
   "metadata": {},
   "outputs": [
    {
     "name": "stdout",
     "output_type": "stream",
     "text": [
      "num of train phones:\t 61\n"
     ]
    }
   ],
   "source": [
    "train_phonetics = [phone for x in train_dataset for phone in x['phonetic'].split()]\n",
    "print(\"num of train phones:\\t\", len(set(train_phonetics)))"
   ]
  },
  {
   "cell_type": "code",
   "execution_count": 38,
   "id": "ca046f05",
   "metadata": {},
   "outputs": [],
   "source": [
    "# TimitBet 61 phoneme mapping to 39 phonemes\n",
    "# by Lee, K.-F., & Hon, H.-W. (1989). Speaker-independent phone recognition using hidden Markov models. IEEE Transactions on Acoustics, Speech, and Signal Processing, 37(11), 1641–1648. doi:10.1109/29.46546\n",
    "phon61_map39 = {\n",
    "    'iy':'iy',  'ih':'ih',   'eh':'eh',  'ae':'ae',    'ix':'ih',  'ax':'ah',   'ah':'ah',  'uw':'uw',\n",
    "    'ux':'uw',  'uh':'uh',   'ao':'aa',  'aa':'aa',    'ey':'ey',  'ay':'ay',   'oy':'oy',  'aw':'aw',\n",
    "    'ow':'ow',  'l':'l',     'el':'l',  'r':'r',      'y':'y',    'w':'w',     'er':'er',  'axr':'er',\n",
    "    'm':'m',    'em':'m',     'n':'n',    'nx':'n',     'en':'n',  'ng':'ng',   'eng':'ng', 'ch':'ch',\n",
    "    'jh':'jh',  'dh':'dh',   'b':'b',    'd':'d',      'dx':'dx',  'g':'g',     'p':'p',    't':'t',\n",
    "    'k':'k',    'z':'z',     'zh':'sh',  'v':'v',      'f':'f',    'th':'th',   's':'s',    'sh':'sh',\n",
    "    'hh':'hh',  'hv':'hh',   'pcl':'h#', 'tcl':'h#', 'kcl':'h#', 'qcl':'h#','bcl':'h#','dcl':'h#',\n",
    "    'gcl':'h#','h#':'h#',  '#h':'h#',  'pau':'h#', 'epi': 'h#','nx':'n',   'ax-h':'ah','q':'h#'\n",
    "}\n",
    "\n",
    "def convert_phon61_to_phon39(sentence):\n",
    "    tokens = [phon61_map39[x] for x in sentence.split()]\n",
    "    return \" \".join(tokens)\n",
    "\n",
    "def normalize_phones(item):\n",
    "    item['phonetic'] = convert_phon61_to_phon39(item['phonetic'])\n",
    "    return item\n"
   ]
  },
  {
   "cell_type": "code",
   "execution_count": 39,
   "id": "4566a826",
   "metadata": {},
   "outputs": [
    {
     "data": {
      "application/vnd.jupyter.widget-view+json": {
       "model_id": "c6971e4bf30b4627b454e71d1ea9a15f",
       "version_major": 2,
       "version_minor": 0
      },
      "text/plain": [
       "Map:   0%|          | 0/2688 [00:00<?, ? examples/s]"
      ]
     },
     "metadata": {},
     "output_type": "display_data"
    },
    {
     "data": {
      "application/vnd.jupyter.widget-view+json": {
       "model_id": "2622f1e0c24548929fcc27fb6c3125c0",
       "version_major": 2,
       "version_minor": 0
      },
      "text/plain": [
       "Map:   0%|          | 0/336 [00:00<?, ? examples/s]"
      ]
     },
     "metadata": {},
     "output_type": "display_data"
    },
    {
     "data": {
      "application/vnd.jupyter.widget-view+json": {
       "model_id": "802292fbec4c4b06abfc99c194fb3206",
       "version_major": 2,
       "version_minor": 0
      },
      "text/plain": [
       "Map:   0%|          | 0/336 [00:00<?, ? examples/s]"
      ]
     },
     "metadata": {},
     "output_type": "display_data"
    }
   ],
   "source": [
    "\n",
    "\n",
    "train_dataset = train_dataset.map(normalize_phones)\n",
    "valid_dataset = valid_dataset.map(normalize_phones)\n",
    "test_dataset = test_dataset.map(normalize_phones)\n",
    "\n"
   ]
  },
  {
   "cell_type": "code",
   "execution_count": 40,
   "id": "efab723e",
   "metadata": {},
   "outputs": [
    {
     "name": "stdout",
     "output_type": "stream",
     "text": [
      "num of train phones:\t 39\n",
      "num of valid phones:\t 39\n",
      "num of test phones:\t 39\n"
     ]
    }
   ],
   "source": [
    "train_phonetics = [phone for x in train_dataset for phone in x['phonetic'].split()]\n",
    "valid_phonetics = [phone for x in valid_dataset for phone in x['phonetic'].split()]\n",
    "test_phonetics = [phone for x in test_dataset for phone in x['phonetic'].split()]\n",
    "\n",
    "print(\"num of train phones:\\t\", len(set(train_phonetics)))\n",
    "print(\"num of valid phones:\\t\", len(set(valid_phonetics)))\n",
    "print(\"num of test phones:\\t\", len(set(test_phonetics)))\n"
   ]
  },
  {
   "cell_type": "code",
   "execution_count": 41,
   "id": "01b4daa9",
   "metadata": {},
   "outputs": [],
   "source": [
    "\n",
    "\n",
    "phone_vocabs = set(train_phonetics)\n",
    "phone_vocabs.remove('h#')\n",
    "phone_vocabs = sorted(phone_vocabs)\n",
    "\n",
    "def count_frequency(phonetics):\n",
    "    phone_counts = {phone: 0 for phone in phone_vocabs}\n",
    "    for phone in phonetics:\n",
    "        if phone in phone_vocabs:\n",
    "            phone_counts[phone] += 1\n",
    "    # eliminate h# for visualization purposes\n",
    "    return [phone_counts[phone] for phone in phone_vocabs]\n",
    "\n"
   ]
  },
  {
   "cell_type": "code",
   "execution_count": 42,
   "id": "721b88c2",
   "metadata": {},
   "outputs": [],
   "source": [
    "train_phone_counts = count_frequency(train_phonetics)\n",
    "valid_phone_counts = count_frequency(valid_phonetics)\n",
    "test_phone_counts  = count_frequency(test_phonetics)"
   ]
  },
  {
   "cell_type": "code",
   "execution_count": 43,
   "id": "7c353cb9",
   "metadata": {},
   "outputs": [],
   "source": [
    "train_phone_ratio = [count / sum(train_phone_counts) for count in train_phone_counts]\n",
    "valid_phone_ratio = [count / sum(valid_phone_counts) for count in valid_phone_counts]\n",
    "test_phone_ratio  = [count / sum(test_phone_counts) for count in test_phone_counts]"
   ]
  },
  {
   "cell_type": "code",
   "execution_count": 45,
   "id": "73a4d726",
   "metadata": {},
   "outputs": [
    {
     "name": "stderr",
     "output_type": "stream",
     "text": [
      "Matplotlib is building the font cache; this may take a moment.\n"
     ]
    },
    {
     "data": {
      "image/png": "[encoded data removed]",
      "text/plain": [
       "<Figure size 2500x1000 with 1 Axes>"
      ]
     },
     "metadata": {},
     "output_type": "display_data"
    }
   ],
   "source": [
    "\n",
    "\n",
    "import matplotlib.pyplot as plt\n",
    "\n",
    "plt.figure(figsize=(25,10))\n",
    "\n",
    "plt.bar(phone_vocabs, train_phone_ratio)\n",
    "plt.bar(phone_vocabs, valid_phone_ratio, bottom=train_phone_ratio)\n",
    "plt.bar(phone_vocabs, test_phone_ratio, bottom=[(x+y) for x,y in zip(train_phone_ratio, valid_phone_ratio)])\n",
    "\n",
    "plt.show()\n",
    "\n"
   ]
  },
  {
   "cell_type": "code",
   "execution_count": 46,
   "id": "0337ec9f",
   "metadata": {},
   "outputs": [],
   "source": [
    "train_dataset = (train_dataset\n",
    "                 .cast_column(\"audio_file\", Audio(sampling_rate=16_000))\n",
    "                 .rename_column('audio_file', 'audio'))\n",
    "valid_dataset = (valid_dataset\n",
    "                 .cast_column(\"audio_file\", Audio(sampling_rate=16_000))\n",
    "                 .rename_column('audio_file', 'audio'))\n",
    "test_dataset = (test_dataset\n",
    "                 .cast_column(\"audio_file\", Audio(sampling_rate=16_000))\n",
    "                 .rename_column('audio_file', 'audio'))"
   ]
  },
  {
   "cell_type": "code",
   "execution_count": 47,
   "id": "7fb5e979",
   "metadata": {},
   "outputs": [
    {
     "data": {
      "text/plain": [
       "{'audio': {'path': '/home/zohreh/ownCloud/hackathon2025/local_test/archive/data/TEST/DR7/FISB0/SA1.WAV',\n",
       "  'array': array([-6.10351562e-05,  6.10351562e-05,  1.22070312e-04, ...,\n",
       "          9.15527344e-05,  3.66210938e-04, -3.05175781e-04], shape=(79770,)),\n",
       "  'sampling_rate': 16000},\n",
       " 'text': 'she had your dark suit in greasy wash water all year',\n",
       " 'phonetic': 'h# sh iy hh ae h# d y er h# d aa r h# k s uw h# ih n h# g r iy z iy w aa sh h# w aa dx er h# aa l y ih er h#'}"
      ]
     },
     "execution_count": 47,
     "metadata": {},
     "output_type": "execute_result"
    }
   ],
   "source": [
    "\n",
    "\n",
    "train_dataset[0]\n",
    "\n"
   ]
  },
  {
   "cell_type": "code",
   "execution_count": 48,
   "id": "45af064e",
   "metadata": {},
   "outputs": [
    {
     "name": "stdout",
     "output_type": "stream",
     "text": [
      "Text: be careful that you keep adequate coverage but look for places to save money\n",
      "Phonetics: h# b iy h# k eh r f l dh eh h# y uw h# k iy h# p h# ae dx ih h# k w ah h# k ah v r ih h# jh h# b ah h# l uh h# k f er h# p l ey s ih z h# t ih s ey h# m ah n iy h#\n",
      "Input array shape: (74036,)\n",
      "Sampling rate: 16000\n"
     ]
    },
    {
     "data": {
      "text/html": [
       "\n",
       "                <audio  controls=\"controls\" >\n",
       "                    <source src=\"data:audio/wav;base64,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\" type=\"audio/wav\" />\n",
       "                    Your browser does not support the audio element.\n",
       "                </audio>\n",
       "              "
      ],
      "text/plain": [
       "<IPython.lib.display.Audio object>"
      ]
     },
     "execution_count": 48,
     "metadata": {},
     "output_type": "execute_result"
    }
   ],
   "source": [
    "import IPython.display as ipd\n",
    "import numpy as np\n",
    "import random\n",
    "\n",
    "rand_int = random.randint(0, len(train_dataset)-1)\n",
    "\n",
    "print(\"Text:\", train_dataset[rand_int][\"text\"])\n",
    "print(\"Phonetics:\", train_dataset[rand_int][\"phonetic\"])\n",
    "print(\"Input array shape:\", train_dataset[rand_int][\"audio\"][\"array\"].shape)\n",
    "print(\"Sampling rate:\", train_dataset[rand_int][\"audio\"][\"sampling_rate\"])\n",
    "ipd.Audio(data=train_dataset[rand_int][\"audio\"][\"array\"], autoplay=False, rate=16000)"
   ]
  },
  {
   "cell_type": "code",
   "execution_count": 49,
   "id": "0bd24fb5",
   "metadata": {},
   "outputs": [],
   "source": [
    "vocab_train = list(set(train_phonetics)) + [' ']\n",
    "vocab_valid = list(set(valid_phonetics)) + [' ']\n",
    "vocab_test  = list(set(test_phonetics)) + [' ']"
   ]
  },
  {
   "cell_type": "code",
   "execution_count": 50,
   "id": "b781bf83",
   "metadata": {},
   "outputs": [
    {
     "name": "stdout",
     "output_type": "stream",
     "text": [
      "{' ': 0, 'aa': 1, 'ae': 2, 'ah': 3, 'aw': 4, 'ay': 5, 'b': 6, 'ch': 7, 'd': 8, 'dh': 9, 'dx': 10, 'eh': 11, 'er': 12, 'ey': 13, 'f': 14, 'g': 15, 'h#': 16, 'hh': 17, 'ih': 18, 'iy': 19, 'jh': 20, 'k': 21, 'l': 22, 'm': 23, 'n': 24, 'ng': 25, 'ow': 26, 'oy': 27, 'p': 28, 'r': 29, 's': 30, 'sh': 31, 't': 32, 'th': 33, 'uh': 34, 'uw': 35, 'v': 36, 'w': 37, 'y': 38, 'z': 39}\n"
     ]
    }
   ],
   "source": [
    "\n",
    "\n",
    "vocab_list = list(set(vocab_train + vocab_valid + vocab_test))\n",
    "vocab_dict = {v: k for k, v in enumerate(sorted(vocab_list))}\n",
    "\n",
    "print(vocab_dict)\n",
    "\n"
   ]
  },
  {
   "cell_type": "code",
   "execution_count": 51,
   "id": "34f994bd",
   "metadata": {},
   "outputs": [
    {
     "data": {
      "text/plain": [
       "42"
      ]
     },
     "execution_count": 51,
     "metadata": {},
     "output_type": "execute_result"
    }
   ],
   "source": [
    "\n",
    "\n",
    "# make the space more intuitive to understand\n",
    "vocab_dict[\"|\"] = vocab_dict[\" \"]\n",
    "del vocab_dict[\" \"]\n",
    "\n",
    "vocab_dict[\"[UNK]\"] = len(vocab_dict)\n",
    "vocab_dict[\"[PAD]\"] = len(vocab_dict)\n",
    "len(vocab_dict)\n",
    "\n"
   ]
  },
  {
   "cell_type": "code",
   "execution_count": 52,
   "id": "9cf5927e",
   "metadata": {},
   "outputs": [],
   "source": [
    "\n",
    "\n",
    "# save vocab.json\n",
    "import json\n",
    "with open('/home/zohreh/ownCloud/hackathon2025/local_test/kaggle/working/vocab.json', 'w') as vocab_file:\n",
    "    json.dump(vocab_dict, vocab_file)\n",
    "\n"
   ]
  },
  {
   "cell_type": "code",
   "execution_count": 53,
   "id": "1c27d5ba",
   "metadata": {},
   "outputs": [],
   "source": [
    "\n",
    "\n",
    "symbols = {\"a\": \"ə\", \"ey\": \"eɪ\", \"aa\": \"ɑ\", \"ae\": \"æ\", \"ah\": \"ə\", \"ao\": \"ɔ\",\n",
    "           \"aw\": \"aʊ\", \"ay\": \"aɪ\", \"ch\": \"ʧ\", \"dh\": \"ð\", \"eh\": \"ɛ\", \"er\": \"ər\",\n",
    "           \"hh\": \"h\", \"ih\": \"ɪ\", \"jh\": \"ʤ\", \"ng\": \"ŋ\",  \"ow\": \"oʊ\", \"oy\": \"ɔɪ\",\n",
    "           \"sh\": \"ʃ\", \"th\": \"θ\", \"uh\": \"ʊ\", \"uw\": \"u\", \"zh\": \"ʒ\", \"iy\": \"i\", \"y\": \"j\"}\n",
    "\n"
   ]
  },
  {
   "cell_type": "code",
   "execution_count": 54,
   "id": "f2c55f99",
   "metadata": {},
   "outputs": [],
   "source": [
    "\n",
    "\n",
    "from transformers import Wav2Vec2CTCTokenizer\n",
    "from transformers import Wav2Vec2FeatureExtractor\n",
    "from transformers import Wav2Vec2Processor\n",
    "from tokenizers.processors import TemplateProcessing\n",
    "\n"
   ]
  },
  {
   "cell_type": "code",
   "execution_count": 56,
   "id": "20b9aed3",
   "metadata": {},
   "outputs": [],
   "source": [
    "tokenizer = Wav2Vec2CTCTokenizer.from_pretrained(\"/home/zohreh/ownCloud/hackathon2025/local_test/kaggle/working/\", unk_token=\"[UNK]\", pad_token=\"[PAD]\", word_delimiter_token=\"|\", )  # './' load vocab.json in the current directory\n",
    "feature_extractor = Wav2Vec2FeatureExtractor(feature_size=1, sampling_rate=16000, padding_value=0.0, do_normalize=True, return_attention_mask=True)\n",
    "processor = Wav2Vec2Processor(feature_extractor=feature_extractor, tokenizer=tokenizer)"
   ]
  },
  {
   "cell_type": "code",
   "execution_count": 57,
   "id": "402e07a1",
   "metadata": {},
   "outputs": [],
   "source": [
    "# This does not prepare the input for the Transformer model.\n",
    "# This will resample the data and convert the sentence into indices\n",
    "# Batch here is just for one entry (row)\n",
    "def prepare_dataset(batch):\n",
    "    audio = batch[\"audio\"]\n",
    "\n",
    "    # batched output is \"un-batched\"\n",
    "    batch[\"input_values\"] = processor(audio[\"array\"], sampling_rate=audio[\"sampling_rate\"]).input_values[0]\n",
    "    batch[\"input_length\"] = len(batch[\"input_values\"])\n",
    "\n",
    "    with processor.as_target_processor():\n",
    "        batch[\"labels\"] = processor(batch[\"phonetic\"]).input_ids\n",
    "    return batch"
   ]
  },
  {
   "cell_type": "code",
   "execution_count": 59,
   "id": "190483c9",
   "metadata": {},
   "outputs": [
    {
     "data": {
      "application/vnd.jupyter.widget-view+json": {
       "model_id": "ce649b928bdf41cf96cb49dede5497e8",
       "version_major": 2,
       "version_minor": 0
      },
      "text/plain": [
       "Map:   0%|          | 0/2688 [00:00<?, ? examples/s]"
      ]
     },
     "metadata": {},
     "output_type": "display_data"
    },
    {
     "data": {
      "application/vnd.jupyter.widget-view+json": {
       "model_id": "710418578275480b95052c8f67fda6e7",
       "version_major": 2,
       "version_minor": 0
      },
      "text/plain": [
       "Map:   0%|          | 0/336 [00:00<?, ? examples/s]"
      ]
     },
     "metadata": {},
     "output_type": "display_data"
    },
    {
     "data": {
      "application/vnd.jupyter.widget-view+json": {
       "model_id": "a3491dddd4d84b3c9cc29d694f612f9d",
       "version_major": 2,
       "version_minor": 0
      },
      "text/plain": [
       "Map:   0%|          | 0/336 [00:00<?, ? examples/s]"
      ]
     },
     "metadata": {},
     "output_type": "display_data"
    }
   ],
   "source": [
    "\n",
    "\n",
    "# train_dataset = train_dataset.map(prepare_dataset, remove_columns=train_dataset.column_names)\n",
    "# valid_dataset = valid_dataset.map(prepare_dataset, remove_columns=valid_dataset.column_names)\n",
    "# test_dataset = test_dataset.map(prepare_dataset, remove_columns=test_dataset.column_names)\n",
    "train_dataset = train_dataset.map(prepare_dataset)\n",
    "valid_dataset = valid_dataset.map(prepare_dataset)\n",
    "test_dataset = test_dataset.map(prepare_dataset)\n",
    "\n"
   ]
  },
  {
   "cell_type": "code",
   "execution_count": 60,
   "id": "dbd0ee8b",
   "metadata": {},
   "outputs": [],
   "source": [
    "import torch\n",
    "\n",
    "from dataclasses import dataclass, field\n",
    "from typing import Any, Dict, List, Optional, Union\n",
    "\n",
    "@dataclass\n",
    "class DataCollatorCTCWithPadding:\n",
    "    \"\"\"\n",
    "    Data collator that will dynamically pad the inputs received.\n",
    "    Args:\n",
    "        processor (:class:`~transformers.Wav2Vec2Processor`)\n",
    "            The processor used for proccessing the data.\n",
    "        padding (:obj:`bool`, :obj:`str` or :class:`~transformers.tokenization_utils_base.PaddingStrategy`, `optional`, defaults to :obj:`True`):\n",
    "            Select a strategy to pad the returned sequences (according to the model's padding side and padding index)\n",
    "            among:\n",
    "            * :obj:`True` or :obj:`'longest'`: Pad to the longest sequence in the batch (or no padding if only a single\n",
    "              sequence if provided).\n",
    "            * :obj:`'max_length'`: Pad to a maximum length specified with the argument :obj:`max_length` or to the\n",
    "              maximum acceptable input length for the model if that argument is not provided.\n",
    "            * :obj:`False` or :obj:`'do_not_pad'` (default): No padding (i.e., can output a batch with sequences of\n",
    "              different lengths).\n",
    "    \"\"\"\n",
    "\n",
    "    processor: Wav2Vec2Processor\n",
    "    padding: Union[bool, str] = True\n",
    "\n",
    "    def __call__(self, features: List[Dict[str, Union[List[int], torch.Tensor]]]) -> Dict[str, torch.Tensor]:\n",
    "        # split inputs and labels since they have to be of different lenghts and need\n",
    "        # different padding methods\n",
    "        input_features = [{\"input_values\": feature[\"input_values\"]} for feature in features]\n",
    "        label_features = [{\"input_ids\": feature[\"labels\"]} for feature in features]\n",
    "\n",
    "        batch = self.processor.pad(\n",
    "            input_features,\n",
    "            padding=self.padding,\n",
    "            return_tensors=\"pt\",\n",
    "        )\n",
    "\n",
    "        with self.processor.as_target_processor():\n",
    "            labels_batch = self.processor.pad(\n",
    "                label_features,\n",
    "                padding=self.padding,\n",
    "                return_tensors=\"pt\",\n",
    "            )\n",
    "\n",
    "        # replace padding with -100 to ignore loss correctly\n",
    "        labels = labels_batch[\"input_ids\"].masked_fill(labels_batch.attention_mask.ne(1), -100)\n",
    "        batch[\"labels\"] = labels\n",
    "\n",
    "        return batch"
   ]
  },
  {
   "cell_type": "code",
   "execution_count": 61,
   "id": "2b907159",
   "metadata": {},
   "outputs": [],
   "source": [
    "def compute_metrics(pred):\n",
    "    pred_logits = pred.predictions\n",
    "    pred_ids = np.argmax(pred_logits, axis=-1)\n",
    "\n",
    "    pred.label_ids[pred.label_ids == -100] = tokenizer.pad_token_id\n",
    "\n",
    "    pred_str = tokenizer.batch_decode(pred_ids)\n",
    "    label_str = tokenizer.batch_decode(pred.label_ids, group_tokens=False)\n",
    "\n",
    "    wer = wer_metric.compute(predictions=pred_str, references=label_str)\n",
    "    cer = cer_metric.compute(predictions=pred_str, references=label_str)\n",
    "\n",
    "    return {\n",
    "        \"wer\": wer,\n",
    "        \"cer\": cer\n",
    "    }\n"
   ]
  },
  {
   "cell_type": "code",
   "execution_count": 62,
   "id": "abfe0615",
   "metadata": {},
   "outputs": [
    {
     "data": {
      "application/vnd.jupyter.widget-view+json": {
       "model_id": "7a49139cb6a743b1b1c3eea4e4220d49",
       "version_major": 2,
       "version_minor": 0
      },
      "text/plain": [
       "Downloading builder script:   0%|          | 0.00/4.49k [00:00<?, ?B/s]"
      ]
     },
     "metadata": {},
     "output_type": "display_data"
    },
    {
     "data": {
      "application/vnd.jupyter.widget-view+json": {
       "model_id": "43d053888ae14c72898cf0c708030bec",
       "version_major": 2,
       "version_minor": 0
      },
      "text/plain": [
       "Downloading builder script:   0%|          | 0.00/5.60k [00:00<?, ?B/s]"
      ]
     },
     "metadata": {},
     "output_type": "display_data"
    }
   ],
   "source": [
    "\n",
    "\n",
    "data_collator = DataCollatorCTCWithPadding(processor=processor, padding=True)\n",
    "wer_metric = load_metric(\"wer\")\n",
    "cer_metric = load_metric(\"cer\")\n",
    "\n"
   ]
  },
  {
   "cell_type": "code",
   "execution_count": 63,
   "id": "5a279007",
   "metadata": {},
   "outputs": [
    {
     "data": {
      "application/vnd.jupyter.widget-view+json": {
       "model_id": "8b3648bb4db54465ac23de5984d38c19",
       "version_major": 2,
       "version_minor": 0
      },
      "text/plain": [
       "config.json:   0%|          | 0.00/1.57k [00:00<?, ?B/s]"
      ]
     },
     "metadata": {},
     "output_type": "display_data"
    },
    {
     "data": {
      "application/vnd.jupyter.widget-view+json": {
       "model_id": "2e0e6219886d4990aadc1148ac2e427b",
       "version_major": 2,
       "version_minor": 0
      },
      "text/plain": [
       "pytorch_model.bin:   0%|          | 0.00/1.27G [00:00<?, ?B/s]"
      ]
     },
     "metadata": {},
     "output_type": "display_data"
    },
    {
     "data": {
      "application/vnd.jupyter.widget-view+json": {
       "model_id": "7e2dd403886c4c95a62b003266d31ce4",
       "version_major": 2,
       "version_minor": 0
      },
      "text/plain": [
       "model.safetensors:   0%|          | 0.00/1.27G [00:00<?, ?B/s]"
      ]
     },
     "metadata": {},
     "output_type": "display_data"
    },
    {
     "name": "stderr",
     "output_type": "stream",
     "text": [
      "Some weights of Wav2Vec2ForCTC were not initialized from the model checkpoint at facebook/wav2vec2-xls-r-300m and are newly initialized: ['lm_head.bias', 'lm_head.weight']\n",
      "You should probably TRAIN this model on a down-stream task to be able to use it for predictions and inference.\n"
     ]
    }
   ],
   "source": [
    "from transformers import Wav2Vec2ForCTC\n",
    "\n",
    "model = Wav2Vec2ForCTC.from_pretrained(\n",
    "    \"facebook/wav2vec2-xls-r-300m\",\n",
    "    attention_dropout=0.1,\n",
    "    layerdrop=0.0,\n",
    "    feat_proj_dropout=0.0,\n",
    "    mask_time_prob=0.75,\n",
    "    mask_time_length=10,\n",
    "    mask_feature_prob=0.25,\n",
    "    mask_feature_length=64,\n",
    "    ctc_loss_reduction=\"mean\",\n",
    "    pad_token_id=processor.tokenizer.pad_token_id,\n",
    "    vocab_size=len(processor.tokenizer)\n",
    ")"
   ]
  },
  {
   "cell_type": "code",
   "execution_count": 64,
   "id": "b309a217",
   "metadata": {},
   "outputs": [],
   "source": [
    "model.freeze_feature_encoder()"
   ]
  },
  {
   "cell_type": "code",
   "execution_count": 66,
   "id": "a44f0135",
   "metadata": {},
   "outputs": [
    {
     "ename": "ImportError",
     "evalue": "Using the `Trainer` with `PyTorch` requires `accelerate>=0.26.0`: Please run `pip install transformers[torch]` or `pip install 'accelerate>=0.26.0'`",
     "output_type": "error",
     "traceback": [
      "\u001b[0;31m---------------------------------------------------------------------------\u001b[0m",
      "\u001b[0;31mImportError\u001b[0m                               Traceback (most recent call last)",
      "Cell \u001b[0;32mIn[66], line 3\u001b[0m\n\u001b[1;32m      1\u001b[0m \u001b[38;5;28;01mfrom\u001b[39;00m\u001b[38;5;250m \u001b[39m\u001b[38;5;21;01mtransformers\u001b[39;00m\u001b[38;5;250m \u001b[39m\u001b[38;5;28;01mimport\u001b[39;00m TrainingArguments\n\u001b[0;32m----> 3\u001b[0m training_args \u001b[38;5;241m=\u001b[39m \u001b[43mTrainingArguments\u001b[49m\u001b[43m(\u001b[49m\n\u001b[1;32m      4\u001b[0m \u001b[43m    \u001b[49m\u001b[43moutput_dir\u001b[49m\u001b[38;5;241;43m=\u001b[39;49m\u001b[38;5;124;43m'\u001b[39;49m\u001b[38;5;124;43m/home/zohreh/ownCloud/hackathon2025/local_test/kaggle/working\u001b[39;49m\u001b[38;5;124;43m'\u001b[39;49m\u001b[43m,\u001b[49m\n\u001b[1;32m      5\u001b[0m \u001b[43m    \u001b[49m\u001b[43mgroup_by_length\u001b[49m\u001b[38;5;241;43m=\u001b[39;49m\u001b[38;5;28;43;01mTrue\u001b[39;49;00m\u001b[43m,\u001b[49m\n\u001b[1;32m      6\u001b[0m \u001b[43m    \u001b[49m\u001b[43mper_device_train_batch_size\u001b[49m\u001b[38;5;241;43m=\u001b[39;49m\u001b[38;5;241;43m8\u001b[39;49m\u001b[43m,\u001b[49m\n\u001b[1;32m      7\u001b[0m \u001b[43m    \u001b[49m\u001b[43mgradient_accumulation_steps\u001b[49m\u001b[38;5;241;43m=\u001b[39;49m\u001b[38;5;241;43m4\u001b[39;49m\u001b[43m,\u001b[49m\n\u001b[1;32m      8\u001b[0m \u001b[43m    \u001b[49m\u001b[43meval_strategy\u001b[49m\u001b[38;5;241;43m=\u001b[39;49m\u001b[38;5;124;43m\"\u001b[39;49m\u001b[38;5;124;43msteps\u001b[39;49m\u001b[38;5;124;43m\"\u001b[39;49m\u001b[43m,\u001b[49m\n\u001b[1;32m      9\u001b[0m \u001b[43m    \u001b[49m\u001b[43mgradient_checkpointing\u001b[49m\u001b[38;5;241;43m=\u001b[39;49m\u001b[38;5;28;43;01mTrue\u001b[39;49;00m\u001b[43m,\u001b[49m\n\u001b[1;32m     10\u001b[0m \u001b[43m    \u001b[49m\u001b[43mfp16\u001b[49m\u001b[38;5;241;43m=\u001b[39;49m\u001b[38;5;28;43;01mTrue\u001b[39;49;00m\u001b[43m,\u001b[49m\n\u001b[1;32m     11\u001b[0m \u001b[43m    \u001b[49m\u001b[43mmax_steps\u001b[49m\u001b[38;5;241;43m=\u001b[39;49m\u001b[38;5;241;43m10\u001b[39;49m\u001b[43m,\u001b[49m\u001b[43m  \u001b[49m\u001b[38;5;66;43;03m#10000,\u001b[39;49;00m\n\u001b[1;32m     12\u001b[0m \u001b[43m    \u001b[49m\u001b[43msave_steps\u001b[49m\u001b[38;5;241;43m=\u001b[39;49m\u001b[38;5;241;43m1\u001b[39;49m\u001b[43m,\u001b[49m\u001b[43m \u001b[49m\u001b[38;5;66;43;03m#1000,  #100,\u001b[39;49;00m\n\u001b[1;32m     13\u001b[0m \u001b[43m    \u001b[49m\u001b[43meval_steps\u001b[49m\u001b[38;5;241;43m=\u001b[39;49m\u001b[38;5;241;43m1\u001b[39;49m\u001b[43m,\u001b[49m\u001b[43m \u001b[49m\u001b[38;5;66;43;03m#1000,\u001b[39;49;00m\n\u001b[1;32m     14\u001b[0m \u001b[43m    \u001b[49m\u001b[43mlogging_steps\u001b[49m\u001b[38;5;241;43m=\u001b[39;49m\u001b[38;5;241;43m1\u001b[39;49m\u001b[43m,\u001b[49m\u001b[43m \u001b[49m\u001b[38;5;66;43;03m#100,\u001b[39;49;00m\n\u001b[1;32m     15\u001b[0m \u001b[43m    \u001b[49m\u001b[43mlearning_rate\u001b[49m\u001b[38;5;241;43m=\u001b[39;49m\u001b[38;5;241;43m3e-5\u001b[39;49m\u001b[43m,\u001b[49m\n\u001b[1;32m     16\u001b[0m \u001b[43m    \u001b[49m\u001b[43mwarmup_steps\u001b[49m\u001b[38;5;241;43m=\u001b[39;49m\u001b[38;5;241;43m1\u001b[39;49m\u001b[43m,\u001b[49m\u001b[43m \u001b[49m\u001b[38;5;66;43;03m#2000,\u001b[39;49;00m\n\u001b[1;32m     17\u001b[0m \u001b[43m    \u001b[49m\u001b[43msave_total_limit\u001b[49m\u001b[38;5;241;43m=\u001b[39;49m\u001b[38;5;241;43m3\u001b[39;49m\u001b[43m,\u001b[49m\n\u001b[1;32m     18\u001b[0m \u001b[43m    \u001b[49m\u001b[43mload_best_model_at_end\u001b[49m\u001b[38;5;241;43m=\u001b[39;49m\u001b[38;5;28;43;01mTrue\u001b[39;49;00m\n\u001b[1;32m     19\u001b[0m \u001b[43m)\u001b[49m\n",
      "File \u001b[0;32m<string>:132\u001b[0m, in \u001b[0;36m__init__\u001b[0;34m(self, output_dir, overwrite_output_dir, do_train, do_eval, do_predict, eval_strategy, prediction_loss_only, per_device_train_batch_size, per_device_eval_batch_size, per_gpu_train_batch_size, per_gpu_eval_batch_size, gradient_accumulation_steps, eval_accumulation_steps, eval_delay, torch_empty_cache_steps, learning_rate, weight_decay, adam_beta1, adam_beta2, adam_epsilon, max_grad_norm, num_train_epochs, max_steps, lr_scheduler_type, lr_scheduler_kwargs, warmup_ratio, warmup_steps, log_level, log_level_replica, log_on_each_node, logging_dir, logging_strategy, logging_first_step, logging_steps, logging_nan_inf_filter, save_strategy, save_steps, save_total_limit, save_safetensors, save_on_each_node, save_only_model, restore_callback_states_from_checkpoint, no_cuda, use_cpu, use_mps_device, seed, data_seed, jit_mode_eval, use_ipex, bf16, fp16, fp16_opt_level, half_precision_backend, bf16_full_eval, fp16_full_eval, tf32, local_rank, ddp_backend, tpu_num_cores, tpu_metrics_debug, debug, dataloader_drop_last, eval_steps, dataloader_num_workers, dataloader_prefetch_factor, past_index, run_name, disable_tqdm, remove_unused_columns, label_names, load_best_model_at_end, metric_for_best_model, greater_is_better, ignore_data_skip, fsdp, fsdp_min_num_params, fsdp_config, tp_size, fsdp_transformer_layer_cls_to_wrap, accelerator_config, deepspeed, label_smoothing_factor, optim, optim_args, adafactor, group_by_length, length_column_name, report_to, ddp_find_unused_parameters, ddp_bucket_cap_mb, ddp_broadcast_buffers, dataloader_pin_memory, dataloader_persistent_workers, skip_memory_metrics, use_legacy_prediction_loop, push_to_hub, resume_from_checkpoint, hub_model_id, hub_strategy, hub_token, hub_private_repo, hub_always_push, gradient_checkpointing, gradient_checkpointing_kwargs, include_inputs_for_metrics, include_for_metrics, eval_do_concat_batches, fp16_backend, push_to_hub_model_id, push_to_hub_organization, push_to_hub_token, mp_parameters, auto_find_batch_size, full_determinism, torchdynamo, ray_scope, ddp_timeout, torch_compile, torch_compile_backend, torch_compile_mode, include_tokens_per_second, include_num_input_tokens_seen, neftune_noise_alpha, optim_target_modules, batch_eval_metrics, eval_on_start, use_liger_kernel, eval_use_gather_object, average_tokens_across_devices)\u001b[0m\n",
      "File \u001b[0;32m~/miniforge3/envs/kidtalk/lib/python3.10/site-packages/transformers/training_args.py:1761\u001b[0m, in \u001b[0;36mTrainingArguments.__post_init__\u001b[0;34m(self)\u001b[0m\n\u001b[1;32m   1759\u001b[0m \u001b[38;5;66;03m# Initialize device before we proceed\u001b[39;00m\n\u001b[1;32m   1760\u001b[0m \u001b[38;5;28;01mif\u001b[39;00m \u001b[38;5;28mself\u001b[39m\u001b[38;5;241m.\u001b[39mframework \u001b[38;5;241m==\u001b[39m \u001b[38;5;124m\"\u001b[39m\u001b[38;5;124mpt\u001b[39m\u001b[38;5;124m\"\u001b[39m \u001b[38;5;129;01mand\u001b[39;00m is_torch_available():\n\u001b[0;32m-> 1761\u001b[0m     \u001b[38;5;28;43mself\u001b[39;49m\u001b[38;5;241;43m.\u001b[39;49m\u001b[43mdevice\u001b[49m\n\u001b[1;32m   1763\u001b[0m \u001b[38;5;66;03m# Disable average tokens when using single device\u001b[39;00m\n\u001b[1;32m   1764\u001b[0m \u001b[38;5;28;01mif\u001b[39;00m \u001b[38;5;28mself\u001b[39m\u001b[38;5;241m.\u001b[39maverage_tokens_across_devices:\n",
      "File \u001b[0;32m~/miniforge3/envs/kidtalk/lib/python3.10/site-packages/transformers/training_args.py:2297\u001b[0m, in \u001b[0;36mTrainingArguments.device\u001b[0;34m(self)\u001b[0m\n\u001b[1;32m   2293\u001b[0m \u001b[38;5;250m\u001b[39m\u001b[38;5;124;03m\"\"\"\u001b[39;00m\n\u001b[1;32m   2294\u001b[0m \u001b[38;5;124;03mThe device used by this process.\u001b[39;00m\n\u001b[1;32m   2295\u001b[0m \u001b[38;5;124;03m\"\"\"\u001b[39;00m\n\u001b[1;32m   2296\u001b[0m requires_backends(\u001b[38;5;28mself\u001b[39m, [\u001b[38;5;124m\"\u001b[39m\u001b[38;5;124mtorch\u001b[39m\u001b[38;5;124m\"\u001b[39m])\n\u001b[0;32m-> 2297\u001b[0m \u001b[38;5;28;01mreturn\u001b[39;00m \u001b[38;5;28;43mself\u001b[39;49m\u001b[38;5;241;43m.\u001b[39;49m\u001b[43m_setup_devices\u001b[49m\n",
      "File \u001b[0;32m~/miniforge3/envs/kidtalk/lib/python3.10/site-packages/transformers/utils/generic.py:67\u001b[0m, in \u001b[0;36mcached_property.__get__\u001b[0;34m(self, obj, objtype)\u001b[0m\n\u001b[1;32m     65\u001b[0m cached \u001b[38;5;241m=\u001b[39m \u001b[38;5;28mgetattr\u001b[39m(obj, attr, \u001b[38;5;28;01mNone\u001b[39;00m)\n\u001b[1;32m     66\u001b[0m \u001b[38;5;28;01mif\u001b[39;00m cached \u001b[38;5;129;01mis\u001b[39;00m \u001b[38;5;28;01mNone\u001b[39;00m:\n\u001b[0;32m---> 67\u001b[0m     cached \u001b[38;5;241m=\u001b[39m \u001b[38;5;28;43mself\u001b[39;49m\u001b[38;5;241;43m.\u001b[39;49m\u001b[43mfget\u001b[49m\u001b[43m(\u001b[49m\u001b[43mobj\u001b[49m\u001b[43m)\u001b[49m\n\u001b[1;32m     68\u001b[0m     \u001b[38;5;28msetattr\u001b[39m(obj, attr, cached)\n\u001b[1;32m     69\u001b[0m \u001b[38;5;28;01mreturn\u001b[39;00m cached\n",
      "File \u001b[0;32m~/miniforge3/envs/kidtalk/lib/python3.10/site-packages/transformers/training_args.py:2167\u001b[0m, in \u001b[0;36mTrainingArguments._setup_devices\u001b[0;34m(self)\u001b[0m\n\u001b[1;32m   2165\u001b[0m \u001b[38;5;28;01mif\u001b[39;00m \u001b[38;5;129;01mnot\u001b[39;00m is_sagemaker_mp_enabled():\n\u001b[1;32m   2166\u001b[0m     \u001b[38;5;28;01mif\u001b[39;00m \u001b[38;5;129;01mnot\u001b[39;00m is_accelerate_available():\n\u001b[0;32m-> 2167\u001b[0m         \u001b[38;5;28;01mraise\u001b[39;00m \u001b[38;5;167;01mImportError\u001b[39;00m(\n\u001b[1;32m   2168\u001b[0m             \u001b[38;5;124mf\u001b[39m\u001b[38;5;124m\"\u001b[39m\u001b[38;5;124mUsing the `Trainer` with `PyTorch` requires `accelerate>=\u001b[39m\u001b[38;5;132;01m{\u001b[39;00mACCELERATE_MIN_VERSION\u001b[38;5;132;01m}\u001b[39;00m\u001b[38;5;124m`: \u001b[39m\u001b[38;5;124m\"\u001b[39m\n\u001b[1;32m   2169\u001b[0m             \u001b[38;5;124mf\u001b[39m\u001b[38;5;124m\"\u001b[39m\u001b[38;5;124mPlease run `pip install transformers[torch]` or `pip install \u001b[39m\u001b[38;5;124m'\u001b[39m\u001b[38;5;124maccelerate>=\u001b[39m\u001b[38;5;132;01m{\u001b[39;00mACCELERATE_MIN_VERSION\u001b[38;5;132;01m}\u001b[39;00m\u001b[38;5;124m'\u001b[39m\u001b[38;5;124m`\u001b[39m\u001b[38;5;124m\"\u001b[39m\n\u001b[1;32m   2170\u001b[0m         )\n\u001b[1;32m   2171\u001b[0m \u001b[38;5;66;03m# We delay the init of `PartialState` to the end for clarity\u001b[39;00m\n\u001b[1;32m   2172\u001b[0m accelerator_state_kwargs \u001b[38;5;241m=\u001b[39m {\u001b[38;5;124m\"\u001b[39m\u001b[38;5;124menabled\u001b[39m\u001b[38;5;124m\"\u001b[39m: \u001b[38;5;28;01mTrue\u001b[39;00m, \u001b[38;5;124m\"\u001b[39m\u001b[38;5;124muse_configured_state\u001b[39m\u001b[38;5;124m\"\u001b[39m: \u001b[38;5;28;01mFalse\u001b[39;00m}\n",
      "\u001b[0;31mImportError\u001b[0m: Using the `Trainer` with `PyTorch` requires `accelerate>=0.26.0`: Please run `pip install transformers[torch]` or `pip install 'accelerate>=0.26.0'`"
     ]
    }
   ],
   "source": [
    "from transformers import TrainingArguments\n",
    "\n",
    "training_args = TrainingArguments(\n",
    "    output_dir='/home/zohreh/ownCloud/hackathon2025/local_test/kaggle/working',\n",
    "    group_by_length=True,\n",
    "    per_device_train_batch_size=8,\n",
    "    gradient_accumulation_steps=4,\n",
    "    eval_strategy=\"steps\",\n",
    "    gradient_checkpointing=True,\n",
    "    fp16=True,\n",
    "    max_steps=10,  #10000,\n",
    "    save_steps=1, #1000,  #100,\n",
    "    eval_steps=1, #1000,\n",
    "    logging_steps=1, #100,\n",
    "    learning_rate=3e-5,\n",
    "    warmup_steps=1, #2000,\n",
    "    save_total_limit=3,\n",
    "    load_best_model_at_end=True\n",
    ")"
   ]
  },
  {
   "cell_type": "code",
   "execution_count": null,
   "id": "12e8f871",
   "metadata": {},
   "outputs": [],
   "source": [
    "\n",
    "\n",
    "from transformers import Trainer\n",
    "\n",
    "trainer = Trainer(\n",
    "    model=model,\n",
    "    data_collator=data_collator,\n",
    "    args=training_args,\n",
    "    compute_metrics=compute_metrics,\n",
    "    train_dataset=train_dataset,\n",
    "    eval_dataset=valid_dataset,\n",
    "    tokenizer=processor.feature_extractor\n",
    ")\n",
    "\n"
   ]
  },
  {
   "cell_type": "code",
   "execution_count": null,
   "id": "281274c3",
   "metadata": {},
   "outputs": [],
   "source": [
    "os.environ[\"WANDB_DISABLED\"] = \"true\"\n",
    "trainer.train()"
   ]
  },
  {
   "cell_type": "code",
   "execution_count": null,
   "id": "c1d4cb4e",
   "metadata": {},
   "outputs": [],
   "source": [
    "\n",
    "\n",
    "trainer.evaluate(test_dataset)\n",
    "\n"
   ]
  },
  {
   "cell_type": "code",
   "execution_count": null,
   "id": "c19b81e1",
   "metadata": {},
   "outputs": [],
   "source": [
    "\n",
    "\n",
    "trainer.evaluate(train_dataset)\n",
    "\n"
   ]
  },
  {
   "cell_type": "code",
   "execution_count": null,
   "id": "16b69136",
   "metadata": {},
   "outputs": [],
   "source": [
    "\n",
    "\n",
    "# save locally\n",
    "trainer.save_model()\n",
    "\n"
   ]
  }
 ],
 "metadata": {
  "kernelspec": {
   "display_name": ".venv",
   "language": "python",
   "name": "python3"
  },
  "language_info": {
   "codemirror_mode": {
    "name": "ipython",
    "version": 3
   },
   "file_extension": ".py",
   "mimetype": "text/x-python",
   "name": "python",
   "nbconvert_exporter": "python",
   "pygments_lexer": "ipython3",
   "version": "3.11.11"
  }
 },
 "nbformat": 4,
 "nbformat_minor": 5
}
