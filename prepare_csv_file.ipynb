{
 "cells": [
  {
   "cell_type": "code",
   "execution_count": null,
   "id": "cec46842",
   "metadata": {},
   "outputs": [],
   "source": [
    "import pandas as pd\n",
    "\n",
    "ground_truth_it = pd.read_csv('/home/zohreh/ownCloud/hackathon2025/local_test/2_Decoding_ground_truth_IT.csv')\n",
    "\n",
    "def prepare_data_csv(df):\n",
    "    df['file_name'] = df['file_name'].apply(lambda x: 'Hackathon_ASR/2_Audiofiles/Decoding_IT_T1/' + x)\n",
    "    df.drop(columns=['Unnamed: 0'], inplace=True)\n",
    "    df.rename(columns={'trial_answer_coder2_phoneme': 'phoneme_sequence'}, inplace=True)\n",
    "    return df\n",
    "\n",
    "df = prepare_data_csv(ground_truth_it)\n",
    "df.to_csv('ground_truth_it_coder_2.csv', index=False)"
   ]
  }
 ],
 "metadata": {
  "language_info": {
   "name": "python"
  }
 },
 "nbformat": 4,
 "nbformat_minor": 5
}
