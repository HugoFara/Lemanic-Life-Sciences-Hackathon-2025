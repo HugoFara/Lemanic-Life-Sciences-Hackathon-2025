{
 "cells": [
  {
   "cell_type": "markdown",
   "id": "7c800913",
   "metadata": {},
   "source": [
    "# Step 1 : Whisper"
   ]
  },
  {
   "cell_type": "code",
   "execution_count": 1,
   "id": "29f32239",
   "metadata": {},
   "outputs": [],
   "source": [
    "import whisper\n",
    "import pandas as pd\n",
    "import os\n",
    "import csv\n",
    "import numpy as np\n",
    "import ast\n",
    "import re\n",
    "from pathlib import Path\n",
    "from tqdm import tqdm\n",
    "from difflib import SequenceMatcher\n",
    "\n"
   ]
  },
  {
   "cell_type": "markdown",
   "id": "ac2dd3ef",
   "metadata": {},
   "source": [
    "## I. Transcribing audio files"
   ]
  },
  {
   "cell_type": "code",
   "execution_count": 2,
   "id": "da291ab4",
   "metadata": {},
   "outputs": [],
   "source": [
    "def transcribe_audio(csv_path, audio_folder, output_csv=\"segments_par_audio.csv\", model_name=\"small\", lang=\"it\"):\n",
    "    \"\"\"\n",
    "    Transcribes each audio file with Whisper (word_timestamps=True)\n",
    "    and adds to DataFrame a single line per file, in the format : [[\"word\", [time_start, time_end]], ...]\n",
    "    \"\"\"\n",
    "    df_files = pd.read_csv(csv_path)\n",
    "\n",
    "    if \"file_name\" not in df_files.columns:\n",
    "        raise ValueError(\"Column 'file_name' not in CSV.\")\n",
    "\n",
    "    model = whisper.load_model(model_name)\n",
    "    results = []\n",
    "\n",
    "    for file_name in tqdm(df_files[\"file_name\"], desc=\"Transcribing...\"):\n",
    "        audio_path = Path(audio_folder) / file_name\n",
    "\n",
    "        if not audio_path.exists():\n",
    "            print(f\"❌ File not found : {audio_path}\")\n",
    "            results.append({\"file_name\": file_name, \"segments\": []})\n",
    "            continue\n",
    "\n",
    "        result = model.transcribe(str(audio_path), word_timestamps=True, language=lang)\n",
    "\n",
    "        word_segments = []\n",
    "        for segment in result[\"segments\"]:\n",
    "            for word in segment.get(\"words\", []):\n",
    "                word_segments.append([\n",
    "                    word[\"word\"].strip(),\n",
    "                    [round(word[\"start\"], 2), round(word[\"end\"], 2)]\n",
    "                ])\n",
    "\n",
    "        results.append({\n",
    "            \"file_name\": file_name,\n",
    "            \"segments\": word_segments\n",
    "        })\n",
    "\n",
    "    # Créer le DataFrame final\n",
    "    df_result = pd.DataFrame(results)\n",
    "    df_result[\"segments\"] = df_result[\"segments\"].apply(lambda x: str(x))  # pour sauvegarde lisible\n",
    "    df_result[\"len_segments\"] = df_result[\"segments\"].apply(lambda x: len(eval(x))) \n",
    "    df_result.to_csv(output_csv, index=False)\n",
    "    print(f\"✅ CSV exported : {output_csv}\")\n",
    "    return df_result\n"
   ]
  },
  {
   "cell_type": "code",
   "execution_count": null,
   "id": "4a3b3fe8",
   "metadata": {},
   "outputs": [],
   "source": [
    "# ===== CSV with all data =====\n",
    "\n",
    "csv_path = \"/pvc/scratch/speech_recognition/Hackathon_ASR/1_Ground_truth/Decoding_ground_truth_IT.csv\"\n",
    "df_ground_truth = pd.read_csv(csv_path)\n",
    "\n",
    "\n",
    "# ===== Audio folder =====\n",
    "\n",
    "audio_folder = \"/pvc/scratch/speech_recognition/Hackathon_ASR/2_Audiofiles/Decoding_IT_T1\"\n",
    "\n",
    "\n",
    "# ===== To test with a small sample =====\n",
    "csv_sample = \"first_5_rows.csv\"\n",
    "df_ground_truth.head()\n",
    "df_ground_truth.head(5).to_csv(csv_sample, index=False)\n",
    "\n",
    "\n"
   ]
  },
  {
   "cell_type": "code",
   "execution_count": null,
   "id": "8f270e06",
   "metadata": {},
   "outputs": [],
   "source": [
    "df = transcribe_audio(\n",
    "    csv_path = csv_path,\n",
    "    audio_folder = audio_folder,\n",
    "    output_csv = \"transcribed.csv\",\n",
    "    model_name = \"small\",\n",
    "    lang = \"it\"\n",
    ")"
   ]
  },
  {
   "cell_type": "markdown",
   "id": "e9357f19",
   "metadata": {},
   "source": [
    "# "
   ]
  },
  {
   "cell_type": "markdown",
   "id": "83a2f9ea",
   "metadata": {},
   "source": [
    "## II. Clean Output"
   ]
  },
  {
   "cell_type": "markdown",
   "id": "915eb525",
   "metadata": {},
   "source": [
    "### Utility Cleaning Functions"
   ]
  },
  {
   "cell_type": "code",
   "execution_count": 3,
   "id": "f9e9f218",
   "metadata": {},
   "outputs": [],
   "source": [
    "\n",
    "# --- Cleaning Functions ---\n",
    "\n",
    "def clean_punctuation(words):\n",
    "    cleaned = []\n",
    "    for item in words:\n",
    "        if isinstance(item, list) and len(item) == 2:\n",
    "            word, times = item\n",
    "            word_cleaned = re.sub(r'[.,]+$', '', word)         # remove trailing punctuation\n",
    "            word_cleaned = re.sub(r'\\.{3,}', '', word_cleaned) # remove long dots\n",
    "            cleaned.append([word_cleaned, times])\n",
    "        else:\n",
    "            cleaned.append(item)\n",
    "    return cleaned\n",
    "\n",
    "def check_stutter(words):\n",
    "    cleaned_words = []\n",
    "    for i in range(len(words) - 1):\n",
    "        current = words[i][0].strip()\n",
    "        nxt = words[i + 1][0].strip()\n",
    "        if nxt.startswith(current):\n",
    "            continue\n",
    "        cleaned_words.append(words[i])\n",
    "    cleaned_words.append(words[-1])\n",
    "    return cleaned_words\n",
    "\n",
    "def check_repetition(words):\n",
    "    cleaned_words = []\n",
    "    for i in range(len(words) - 1):\n",
    "        current = words[i][0].strip()\n",
    "        nxt = words[i + 1][0].strip()\n",
    "        if current == nxt:\n",
    "            continue\n",
    "        cleaned_words.append(words[i])\n",
    "    cleaned_words.append(words[-1])\n",
    "    return cleaned_words\n",
    "\n",
    "def concatenate_words(words):\n",
    "    concatenated = []\n",
    "    skip = False\n",
    "    for i in range(len(words) - 1):\n",
    "        if skip:\n",
    "            skip = False\n",
    "            continue\n",
    "        word, time = words[i]\n",
    "        next_word, next_time = words[i + 1]\n",
    "        if len(word.strip()) <= 2:\n",
    "            new_word = word.strip() + next_word.strip()\n",
    "            new_time = [time[0], next_time[1]]\n",
    "            concatenated.append([new_word, new_time])\n",
    "            skip = True\n",
    "        else:\n",
    "            concatenated.append([word, time])\n",
    "    if not skip:\n",
    "        concatenated.append(words[-1])\n",
    "    return concatenated\n",
    "\n",
    "def clean_output(words):\n",
    "    if not words:\n",
    "        return words\n",
    "    words = clean_punctuation(words)\n",
    "    words = check_repetition(words)\n",
    "    words = check_stutter(words)\n",
    "    words = concatenate_words(words)\n",
    "    return words\n",
    "\n",
    "# --- Filter and clean segments column ---\n",
    "\n",
    "def filter_segments(segments):\n",
    "    return [\n",
    "        [word, timestamps] \n",
    "        for word, timestamps in segments \n",
    "        if not (len(word) <= 5 and \"...\" in word)\n",
    "    ]\n",
    "\n",
    "def safe_filter_segments(row):\n",
    "    try:\n",
    "        original = ast.literal_eval(row['segments'])\n",
    "        filtered = filter_segments(original)\n",
    "        if filtered != original:\n",
    "            return filtered\n",
    "        return None\n",
    "    except Exception as e:\n",
    "        print(f\"Error in row: {row['file_name']}\\n{e}\")\n",
    "        return None\n",
    "\n",
    "\n",
    "# ===== Clean segments ====\n",
    "\n",
    "def clean_reponse(reponse):\n",
    "    if isinstance(reponse, list):\n",
    "        reponse = \" \".join(reponse)\n",
    "    reponse = re.sub(r\"[{}.\\[\\]]\", \" \", reponse)  # remove special punctuation\n",
    "    reponse = re.sub(r\"[^a-zA-Zàèéìòùç\\s]\", \"\", reponse)  # keep only letters and spaces\n",
    "    mots = reponse.lower().split()\n",
    "    return mots\n",
    "\n",
    "def similarity(a, b):\n",
    "    return SequenceMatcher(None, a, b).ratio()\n",
    "\n",
    "def correct_segments(segments, config_list):\n",
    "    if isinstance(segments, str):\n",
    "        try:\n",
    "            segments = ast.literal_eval(segments)\n",
    "        except:\n",
    "            return []\n",
    "\n",
    "    mots_ref = clean_reponse(config_list)\n",
    "\n",
    "    if len(segments) < 12:\n",
    "        return []\n",
    "    elif len(segments) == 12:\n",
    "        return segments\n",
    "\n",
    "    mots_whisper = [mot[0].lower() for mot in segments]\n",
    "\n",
    "    scores = []\n",
    "    for i, mot_w in enumerate(mots_whisper):\n",
    "        score_total = sum(similarity(mot_w, mot_ref) for mot_ref in mots_ref)\n",
    "        scores.append((i, score_total))\n",
    "\n",
    "    meilleurs = sorted(scores, key=lambda x: x[1], reverse=True)[:12]\n",
    "    indices_gardes = sorted([i for i, _ in meilleurs])\n",
    "\n",
    "    segments_corriges = [segments[i] for i in indices_gardes]\n",
    "    return segments_corriges\n",
    "\n",
    "\n",
    "\n",
    "\n",
    "\n",
    "# --- Full cleaning process applied to segments column ---\n",
    "\n",
    "def clean_segments_column(df):\n",
    "    df = df.copy()\n",
    "\n",
    "    def process_row(segment_str):\n",
    "        try:\n",
    "            parsed = ast.literal_eval(segment_str)\n",
    "            filtered = filter_segments(parsed)\n",
    "            cleaned = clean_output(filtered)\n",
    "            return str(cleaned)\n",
    "        except Exception as e:\n",
    "            print(f\"Error processing row: {segment_str}\\n{e}\")\n",
    "            return segment_str  # fallback\n",
    "\n",
    "    df['segments'] = df['segments'].apply(process_row)\n",
    "\n",
    "    df['len_segments'] = df['segments'].apply(\n",
    "        lambda x: len(ast.literal_eval(x)) if x and x != '[]' else 0\n",
    "    )\n",
    "\n",
    "    return df\n",
    "\n",
    "def french_clean(df):\n",
    "    \"\"\"\n",
    "    Only keep rows where the 'segments' column contains exactly one word.\n",
    "    Assumes 'segments' is a stringified list of [word, [start, end]] elements.\n",
    "    \"\"\"\n",
    "    def has_one_segment(segment_str):\n",
    "        try:\n",
    "            segments = ast.literal_eval(segment_str)\n",
    "            return isinstance(segments, list) and len(segments) == 1\n",
    "        except:\n",
    "            return False  # Skip rows with malformed segments\n",
    "\n",
    "    df_filtered = df[df['segments'].apply(has_one_segment)].copy()\n",
    "    return df_filtered\n",
    "\n",
    "def italian_clean(df):\n",
    "    \"\"\"\n",
    "    Only keep rows where the 'segments' column contains exactly 12 words.\n",
    "    \"\"\"\n",
    "    def keep(segment_str):\n",
    "        try:\n",
    "            segments = ast.literal_eval(segment_str)\n",
    "            return isinstance(segments, list) and len(segments) == 12\n",
    "        except:\n",
    "            return False  # Skip rows with malformed segments\n",
    "\n",
    "    df_filtered = df[df['segments'].apply(keep)].copy()\n",
    "    return df_filtered\n",
    "    \n",
    "\n",
    "### --- Main function to clean the entire CSV file ---\n",
    "def clean_data(file_name, language=None):\n",
    "    \"\"\"\n",
    "    Cleans the CSV file by applying various cleaning functions to the 'segments' column.\n",
    "\n",
    "    file_name (str): The path to the CSV file.\n",
    "    language (str): The language of the data. Can be \"FR\" or \"IT\" (None will remove no rows)\n",
    "    \"\"\"\n",
    "    df = pd.read_csv(file_name)\n",
    "    df = clean_segments_column(df)\n",
    "    if language == \"FR\":\n",
    "        df = french_clean(df)\n",
    "    if language == \"IT\":\n",
    "        df = italian_clean(df)\n",
    "    return df"
   ]
  },
  {
   "cell_type": "markdown",
   "id": "90468ca7",
   "metadata": {},
   "source": [
    "### Apply Cleaning Pipeline To Transcribed Files"
   ]
  },
  {
   "cell_type": "code",
   "execution_count": 35,
   "id": "0d9ae36e",
   "metadata": {},
   "outputs": [
    {
     "data": {
      "text/html": [
       "<div>\n",
       "<style scoped>\n",
       "    .dataframe tbody tr th:only-of-type {\n",
       "        vertical-align: middle;\n",
       "    }\n",
       "\n",
       "    .dataframe tbody tr th {\n",
       "        vertical-align: top;\n",
       "    }\n",
       "\n",
       "    .dataframe thead th {\n",
       "        text-align: right;\n",
       "    }\n",
       "</style>\n",
       "<table border=\"1\" class=\"dataframe\">\n",
       "  <thead>\n",
       "    <tr style=\"text-align: right;\">\n",
       "      <th></th>\n",
       "      <th>file_name</th>\n",
       "      <th>segments</th>\n",
       "      <th>len_segments</th>\n",
       "    </tr>\n",
       "  </thead>\n",
       "  <tbody>\n",
       "    <tr>\n",
       "      <th>0</th>\n",
       "      <td>1001_edugame2023_59aa8ecf74c44db2adf56d71d1705...</td>\n",
       "      <td>[['Vuso', [1.86, 3.26]], ['Seca', [3.76, 4.18]...</td>\n",
       "      <td>12</td>\n",
       "    </tr>\n",
       "    <tr>\n",
       "      <th>1</th>\n",
       "      <td>1001_edugame2023_59aa8ecf74c44db2adf56d71d1705...</td>\n",
       "      <td>[['Istroppi', [1.54, 4.06]], ['insmog', [4.06,...</td>\n",
       "      <td>12</td>\n",
       "    </tr>\n",
       "    <tr>\n",
       "      <th>2</th>\n",
       "      <td>1001_edugame2023_e0304994bb364a74a1068abe1c1c0...</td>\n",
       "      <td>[['strade', [4.1, 5.5]], ['minestra', [6.1, 7....</td>\n",
       "      <td>12</td>\n",
       "    </tr>\n",
       "    <tr>\n",
       "      <th>3</th>\n",
       "      <td>1001_edugame2023_e0304994bb364a74a1068abe1c1c0...</td>\n",
       "      <td>[['diva', [2.04, 3.44]], ['notte', [3.52, 4.3]...</td>\n",
       "      <td>12</td>\n",
       "    </tr>\n",
       "    <tr>\n",
       "      <th>5</th>\n",
       "      <td>1001_edugame2023_e0304994bb364a74a1068abe1c1c0...</td>\n",
       "      <td>[['Scarpa', [2.76, 4.08]], ['filio', [4.36, 5....</td>\n",
       "      <td>12</td>\n",
       "    </tr>\n",
       "  </tbody>\n",
       "</table>\n",
       "</div>"
      ],
      "text/plain": [
       "                                           file_name  \\\n",
       "0  1001_edugame2023_59aa8ecf74c44db2adf56d71d1705...   \n",
       "1  1001_edugame2023_59aa8ecf74c44db2adf56d71d1705...   \n",
       "2  1001_edugame2023_e0304994bb364a74a1068abe1c1c0...   \n",
       "3  1001_edugame2023_e0304994bb364a74a1068abe1c1c0...   \n",
       "5  1001_edugame2023_e0304994bb364a74a1068abe1c1c0...   \n",
       "\n",
       "                                            segments  len_segments  \n",
       "0  [['Vuso', [1.86, 3.26]], ['Seca', [3.76, 4.18]...            12  \n",
       "1  [['Istroppi', [1.54, 4.06]], ['insmog', [4.06,...            12  \n",
       "2  [['strade', [4.1, 5.5]], ['minestra', [6.1, 7....            12  \n",
       "3  [['diva', [2.04, 3.44]], ['notte', [3.52, 4.3]...            12  \n",
       "5  [['Scarpa', [2.76, 4.08]], ['filio', [4.36, 5....            12  "
      ]
     },
     "execution_count": 35,
     "metadata": {},
     "output_type": "execute_result"
    }
   ],
   "source": [
    "file_name = \"/Users/melina/Desktop/Hackathon/Lemanic-Life-Sciences-Hackathon-2025/Segment_medium_IT_not_cleaned.csv\"\n",
    "df_original = pd.read_csv(file_name)\n",
    "df_cleaned = clean_data(file_name, \"IT\")\n",
    "df_cleaned.head(5)"
   ]
  },
  {
   "cell_type": "markdown",
   "id": "3b69d9ec",
   "metadata": {},
   "source": [
    "### Save Cleaned Data"
   ]
  },
  {
   "cell_type": "code",
   "execution_count": 36,
   "id": "22068a5f",
   "metadata": {},
   "outputs": [],
   "source": [
    "# save the cleaned df\n",
    "df_cleaned.to_csv(\"/Users/melina/Desktop/Hackathon/Lemanic-Life-Sciences-Hackathon-2025/Segment_medium_IT_cleaned.csv\", index=False)"
   ]
  },
  {
   "cell_type": "markdown",
   "id": "599cf0d4",
   "metadata": {},
   "source": [
    "### Visualize distribution"
   ]
  },
  {
   "cell_type": "code",
   "execution_count": 33,
   "id": "bea9a121",
   "metadata": {},
   "outputs": [
    {
     "data": {
      "image/png": "[encoded data removed]",
      "text/plain": [
       "<Figure size 1800x600 with 2 Axes>"
      ]
     },
     "metadata": {},
     "output_type": "display_data"
    }
   ],
   "source": [
    "import matplotlib.pyplot as plt\n",
    "\n",
    "fig, axes = plt.subplots(1, 2, figsize=(18, 6), sharey=False)\n",
    "\n",
    "# Plot histogram for df_cleaned\n",
    "histograme_cleaned = df_cleaned[\"len_segments\"].value_counts().sort_index(ascending=True) / len(df_cleaned)\n",
    "histograme_cleaned.plot(kind=\"bar\", ax=axes[0], title=\"Histogram cleaned\")\n",
    "axes[0].set_ylabel(\"Frequency\")\n",
    "\n",
    "# Plot histogram for df_segments (assuming df_segments exists)\n",
    "histograme_segments = df_original[\"len_segments\"].value_counts().sort_index(ascending=True) / len(df_original)\n",
    "histograme_segments.plot(kind=\"bar\", ax=axes[1], title=\"Original\")\n",
    "axes[1].set_ylabel(\"Frequency\")\n",
    "\n",
    "plt.tight_layout()\n",
    "plt.show()"
   ]
  },
  {
   "cell_type": "markdown",
   "id": "b68270a0",
   "metadata": {},
   "source": [
    "## Building Complete CSV"
   ]
  },
  {
   "cell_type": "markdown",
   "id": "f5004011",
   "metadata": {},
   "source": [
    "### Utilies functions"
   ]
  },
  {
   "cell_type": "code",
   "execution_count": 4,
   "id": "1187a169",
   "metadata": {},
   "outputs": [],
   "source": [
    "def nettoyer_reponse(reponse):\n",
    "    if isinstance(reponse, list):\n",
    "        reponse = \" \".join(reponse)  # join the list into a single string\n",
    "    reponse = re.sub(r\"[{}.\\[\\]]\", \" \", reponse)  # enlever ponctuation spéciale\n",
    "    reponse = re.sub(r\"[^a-zA-Zàèéìòùç\\s]\", \"\", reponse)  # garder que les lettres et espaces\n",
    "    mots = reponse.lower().split()\n",
    "    return mots\n",
    "\n",
    "# Calculer une similarité basique\n",
    "def similarite(a, b):\n",
    "    return SequenceMatcher(None, a, b).ratio()\n",
    "\n",
    "# Appliquer la logique de correction\n",
    "def corriger_segments(row):\n",
    "    try:\n",
    "        segments = ast.literal_eval(row[\"segments\"])\n",
    "    except:\n",
    "        return []\n",
    "    \n",
    "    mots_ref = nettoyer_reponse(row[\"config_list\"])\n",
    "\n",
    "    if len(segments) < 12:\n",
    "        return []  # trop court, on ignore\n",
    "    elif len(segments) == 12:\n",
    "        return segments  # parfait\n",
    "\n",
    "    # Si trop de mots, garder les 12 plus proches\n",
    "    mots_whisper = [mot[0].lower() for mot in segments]\n",
    "\n",
    "    scores = []\n",
    "    for i, mot_w in enumerate(mots_whisper):\n",
    "        score_total = sum(similarite(mot_w, mot_ref) for mot_ref in mots_ref)\n",
    "        scores.append((i, score_total))\n",
    "\n",
    "    # Garder les 12 meilleurs mots (plus cohérents avec la phrase attendue)\n",
    "    meilleurs = sorted(scores, key=lambda x: x[1], reverse=True)[:12]\n",
    "    indices_gardes = sorted([i for i, _ in meilleurs])  # trier pour garder l'ordre\n",
    "\n",
    "    segments_corriges = [segments[i] for i in indices_gardes]\n",
    "    return segments_corriges\n",
    "\n",
    "\n",
    "def build_config_list(df_original):\n",
    "    df_ref = df_original.copy()\n",
    "    df_ref['config_list'] = df_original['config'].apply(lambda x: x.split(';'))\n",
    "    df_ref = df_ref[['file_name', 'config_list']] # build csv keep only file name and config_list\n",
    "    return df_ref\n",
    "\n",
    "def remplace_by_references(row):\n",
    "    try:\n",
    "        # 'segments' might still be a string, so keep literal_eval here\n",
    "        segments = ast.literal_eval(row[\"segments\"]) if isinstance(row[\"segments\"], str) else row[\"segments\"]\n",
    "        \n",
    "        # 'config_list' is already a list\n",
    "        config_words = row[\"config_list\"]\n",
    "\n",
    "        if len(segments) != len(config_words):\n",
    "            return None  # lengths mismatch\n",
    "\n",
    "        return [[ref_word, seg[1]] for ref_word, seg in zip(config_words, segments)]\n",
    "    \n",
    "    except Exception as e:\n",
    "        print(f\"Error in row {row.get('file_name', 'N/A')}: {e}\")\n",
    "        return None"
   ]
  },
  {
   "cell_type": "code",
   "execution_count": null,
   "id": "d56eed5e",
   "metadata": {},
   "outputs": [],
   "source": [
    "df_whisper = pd.read_csv(\"medium_cleaned_lolo.csv\") \n",
    "file = \"/Users/melina/Desktop/Hackathon/Hackathon_ASR/1_Ground_truth/Decoding_ground_truth_IT.csv\"\n",
    "df_original = pd.read_csv(file)"
   ]
  },
  {
   "cell_type": "code",
   "execution_count": 187,
   "id": "d10d9f97",
   "metadata": {},
   "outputs": [],
   "source": [
    "df_whisper = pd.read_csv(\"Segment_medium_IT_cleaned.csv\")\n",
    "df = df_whisper.copy()\n",
    "df_ref = build_config_list(df_original)\n",
    "df[\"config_list\"] = df_ref[\"config_list\"] # fuse the two dataframes\n",
    "# df[\"filtered_segments\"] = df.apply(corriger_segments, axis=1) # filtered using the config_list\n",
    "# df[\"len_filtered_segments\"] = df[\"filtered_segments\"].apply(len) \n",
    "df[\"aligned_segments\"] = df.apply(remplace_by_references, axis=1) # replace"
   ]
  },
  {
   "cell_type": "code",
   "execution_count": 188,
   "id": "43995291",
   "metadata": {},
   "outputs": [],
   "source": [
    "df.to_csv(\"filtered_with_labels.csv\", index=False)"
   ]
  },
  {
   "cell_type": "code",
   "execution_count": 5,
   "id": "4d39f2e5",
   "metadata": {},
   "outputs": [],
   "source": [
    "# transcribe audio with 'medium' whisper \n",
    "def transcribe_single_audio(wav_file, language):\n",
    "    model = whisper.load_model(\"small\")\n",
    "    result = model.transcribe(str(wav_file), word_timestamps=True, language=language)\n",
    "    word_segments = []\n",
    "    for segment in result[\"segments\"]:\n",
    "        for word in segment.get(\"words\", []):\n",
    "            word_segments.append([\n",
    "                word[\"word\"].strip(),\n",
    "                [round(word[\"start\"], 2), round(word[\"end\"], 2)]\n",
    "            ])\n",
    "    return word_segments"
   ]
  },
  {
   "cell_type": "markdown",
   "id": "f810a6cc",
   "metadata": {},
   "source": [
    "## Pipeline from .wav to words"
   ]
  },
  {
   "cell_type": "code",
   "execution_count": 6,
   "id": "a6b6fc9b",
   "metadata": {},
   "outputs": [],
   "source": [
    "# match .wav to line in the df\n",
    "def match_wav_to_line(wav_file, df):\n",
    "    file_name = os.path.basename(wav_file)\n",
    "    matched_row = df[df['file_name'] == file_name] # get the row with the same file name\n",
    "    return matched_row\n",
    "\n",
    "def replace_whisper_words_with_reference(final_words, reference_words):\n",
    "    \"\"\"\n",
    "    Replace the words in final_words with the corresponding words in reference_words.\n",
    "    \"\"\"\n",
    "    for i, (word, _) in enumerate(final_words):\n",
    "        if i < len(reference_words):\n",
    "            final_words[i][0] = reference_words[i]\n",
    "    return final_words"
   ]
  },
  {
   "cell_type": "code",
   "execution_count": 9,
   "id": "4bcb7ce9",
   "metadata": {},
   "outputs": [],
   "source": [
    "# from .wav file apply pipeline\n",
    "wav_file = \"/Users/melina/Desktop/Hackathon/Hackathon_ASR/2_Audiofiles/Decoding_IT_T1/102_edugame2023_32c4a5e851c1431aba3aa409e3be8128_649d404f44214261b67b24f1845e1350.wav\"\n",
    "language = \"it\"\n",
    "\n",
    "file = \"/Users/melina/Desktop/Hackathon/Hackathon_ASR/1_Ground_truth/Decoding_ground_truth_IT.csv\"\n",
    "file = \"/Users/melina/Desktop/Hackathon/Lemanic-Life-Sciences-Hackathon-2025/interface_data.csv\"\n",
    "df_original = pd.read_csv(file)"
   ]
  },
  {
   "cell_type": "code",
   "execution_count": 8,
   "id": "f8144763",
   "metadata": {},
   "outputs": [
    {
     "name": "stderr",
     "output_type": "stream",
     "text": [
      "/Users/melina/.virtualenvs/base/lib/python3.11/site-packages/whisper/transcribe.py:126: UserWarning: FP16 is not supported on CPU; using FP32 instead\n",
      "  warnings.warn(\"FP16 is not supported on CPU; using FP32 instead\")\n"
     ]
    }
   ],
   "source": [
    "words = transcribe_single_audio(wav_file, language)\n"
   ]
  },
  {
   "cell_type": "code",
   "execution_count": 10,
   "id": "01980880",
   "metadata": {},
   "outputs": [
    {
     "data": {
      "text/plain": [
       "[['All', [0.0, 0.22]],\n",
       " [\"'ultima\", [0.22, 0.62]],\n",
       " ['pagina', [0.62, 1.3]],\n",
       " ['nostro', [5.02, 5.72]],\n",
       " ['Bismaggo', [8.12, 9.52]],\n",
       " ['sir', [9.52, 10.18]],\n",
       " ['sir', [10.18, 11.2]],\n",
       " ['velone', [11.2, 11.94]],\n",
       " ['che', [11.94, 13.1]],\n",
       " ['dinare', [13.1, 15.62]],\n",
       " ['d', [15.62, 16.84]],\n",
       " [\"'orca\", [16.84, 17.42]],\n",
       " ['bolleggio', [19.2, 20.16]],\n",
       " ['Caglietapo', [23.86, 25.26]],\n",
       " ['Nacchipante', [28.2, 29.6]],\n",
       " ['Nutto', [32.1, 33.5]],\n",
       " ['Egnomisa', [34.26, 35.44]],\n",
       " ['Non', [35.44, 36.86]],\n",
       " ['grasso', [36.86, 38.96]],\n",
       " ['Le', [41.7, 42.4]],\n",
       " ['sciacope', [42.4, 43.14]]]"
      ]
     },
     "execution_count": 10,
     "metadata": {},
     "output_type": "execute_result"
    }
   ],
   "source": [
    "words"
   ]
  },
  {
   "cell_type": "code",
   "execution_count": 11,
   "id": "caf8b25a",
   "metadata": {},
   "outputs": [],
   "source": [
    "df_ref = build_config_list(df_original)           # build csv with only file name and target words\n",
    "matched_row = match_wav_to_line(wav_file, df_ref) # get the row with the same file name"
   ]
  },
  {
   "cell_type": "code",
   "execution_count": 12,
   "id": "7947c194",
   "metadata": {},
   "outputs": [
    {
     "data": {
      "text/html": [
       "<div>\n",
       "<style scoped>\n",
       "    .dataframe tbody tr th:only-of-type {\n",
       "        vertical-align: middle;\n",
       "    }\n",
       "\n",
       "    .dataframe tbody tr th {\n",
       "        vertical-align: top;\n",
       "    }\n",
       "\n",
       "    .dataframe thead th {\n",
       "        text-align: right;\n",
       "    }\n",
       "</style>\n",
       "<table border=\"1\" class=\"dataframe\">\n",
       "  <thead>\n",
       "    <tr style=\"text-align: right;\">\n",
       "      <th></th>\n",
       "      <th>file_name</th>\n",
       "      <th>config_list</th>\n",
       "    </tr>\n",
       "  </thead>\n",
       "  <tbody>\n",
       "    <tr>\n",
       "      <th>0</th>\n",
       "      <td>1001_edugame2023_59aa8ecf74c44db2adf56d71d1705...</td>\n",
       "      <td>[vuso, seca, clofeno, ranviglio, dape, tarse, ...</td>\n",
       "    </tr>\n",
       "    <tr>\n",
       "      <th>1</th>\n",
       "      <td>1001_edugame2023_59aa8ecf74c44db2adf56d71d1705...</td>\n",
       "      <td>[istro, bismoggo, sirfelone, chetinare, borte,...</td>\n",
       "    </tr>\n",
       "    <tr>\n",
       "      <th>2</th>\n",
       "      <td>1001_edugame2023_e0304994bb364a74a1068abe1c1c0...</td>\n",
       "      <td>[strage, minestra, appartamento, caposcuola, t...</td>\n",
       "    </tr>\n",
       "    <tr>\n",
       "      <th>3</th>\n",
       "      <td>1001_edugame2023_e0304994bb364a74a1068abe1c1c0...</td>\n",
       "      <td>[diva, notte, barile, basilico, radio, anca, c...</td>\n",
       "    </tr>\n",
       "    <tr>\n",
       "      <th>4</th>\n",
       "      <td>1001_edugame2023_e0304994bb364a74a1068abe1c1c0...</td>\n",
       "      <td>[caso, fame, vicino, domenica, meno, bava, nuv...</td>\n",
       "    </tr>\n",
       "    <tr>\n",
       "      <th>...</th>\n",
       "      <td>...</td>\n",
       "      <td>...</td>\n",
       "    </tr>\n",
       "    <tr>\n",
       "      <th>927</th>\n",
       "      <td>dummy_TEST_e584e972ac3146a2aea4c74e166d218c_55...</td>\n",
       "      <td>[valo, save, clofelo, sonviglio, dete, farde, ...</td>\n",
       "    </tr>\n",
       "    <tr>\n",
       "      <th>928</th>\n",
       "      <td>dummy_TEST_e883027f988444ec800dd7309e94515c_05...</td>\n",
       "      <td>[ustro, bismacco, sarvelone, chetinere, binca,...</td>\n",
       "    </tr>\n",
       "    <tr>\n",
       "      <th>929</th>\n",
       "      <td>dummy_TEST_e883027f988444ec800dd7309e94515c_fe...</td>\n",
       "      <td>[valo, save, clofelo, sonviglio, dete, farde, ...</td>\n",
       "    </tr>\n",
       "    <tr>\n",
       "      <th>930</th>\n",
       "      <td>dummy_TEST_f6c4713dbeac4a439367228aaa791c41_17...</td>\n",
       "      <td>[ustro, bismacco, sarvelone, chetinere, binca,...</td>\n",
       "    </tr>\n",
       "    <tr>\n",
       "      <th>931</th>\n",
       "      <td>dummy_TEST_f6c4713dbeac4a439367228aaa791c41_3e...</td>\n",
       "      <td>[valo, save, clofelo, sonviglio, dete, farde, ...</td>\n",
       "    </tr>\n",
       "  </tbody>\n",
       "</table>\n",
       "<p>932 rows × 2 columns</p>\n",
       "</div>"
      ],
      "text/plain": [
       "                                             file_name  \\\n",
       "0    1001_edugame2023_59aa8ecf74c44db2adf56d71d1705...   \n",
       "1    1001_edugame2023_59aa8ecf74c44db2adf56d71d1705...   \n",
       "2    1001_edugame2023_e0304994bb364a74a1068abe1c1c0...   \n",
       "3    1001_edugame2023_e0304994bb364a74a1068abe1c1c0...   \n",
       "4    1001_edugame2023_e0304994bb364a74a1068abe1c1c0...   \n",
       "..                                                 ...   \n",
       "927  dummy_TEST_e584e972ac3146a2aea4c74e166d218c_55...   \n",
       "928  dummy_TEST_e883027f988444ec800dd7309e94515c_05...   \n",
       "929  dummy_TEST_e883027f988444ec800dd7309e94515c_fe...   \n",
       "930  dummy_TEST_f6c4713dbeac4a439367228aaa791c41_17...   \n",
       "931  dummy_TEST_f6c4713dbeac4a439367228aaa791c41_3e...   \n",
       "\n",
       "                                           config_list  \n",
       "0    [vuso, seca, clofeno, ranviglio, dape, tarse, ...  \n",
       "1    [istro, bismoggo, sirfelone, chetinare, borte,...  \n",
       "2    [strage, minestra, appartamento, caposcuola, t...  \n",
       "3    [diva, notte, barile, basilico, radio, anca, c...  \n",
       "4    [caso, fame, vicino, domenica, meno, bava, nuv...  \n",
       "..                                                 ...  \n",
       "927  [valo, save, clofelo, sonviglio, dete, farde, ...  \n",
       "928  [ustro, bismacco, sarvelone, chetinere, binca,...  \n",
       "929  [valo, save, clofelo, sonviglio, dete, farde, ...  \n",
       "930  [ustro, bismacco, sarvelone, chetinere, binca,...  \n",
       "931  [valo, save, clofelo, sonviglio, dete, farde, ...  \n",
       "\n",
       "[932 rows x 2 columns]"
      ]
     },
     "execution_count": 12,
     "metadata": {},
     "output_type": "execute_result"
    }
   ],
   "source": [
    "df_ref"
   ]
  },
  {
   "cell_type": "code",
   "execution_count": 13,
   "id": "131d0fff",
   "metadata": {},
   "outputs": [],
   "source": [
    "cleaned_words = clean_output(words) # takes care of punctuation, stutter, repetition and concatenation"
   ]
  },
  {
   "cell_type": "code",
   "execution_count": 14,
   "id": "c2a3646a",
   "metadata": {},
   "outputs": [
    {
     "data": {
      "text/plain": [
       "[['All', [0.0, 0.22]],\n",
       " [\"'ultima\", [0.22, 0.62]],\n",
       " ['pagina', [0.62, 1.3]],\n",
       " ['nostro', [5.02, 5.72]],\n",
       " ['Bismaggo', [8.12, 9.52]],\n",
       " ['sir', [10.18, 11.2]],\n",
       " ['velone', [11.2, 11.94]],\n",
       " ['che', [11.94, 13.1]],\n",
       " ['dinare', [13.1, 15.62]],\n",
       " [\"d'orca\", [15.62, 17.42]],\n",
       " ['bolleggio', [19.2, 20.16]],\n",
       " ['Caglietapo', [23.86, 25.26]],\n",
       " ['Nacchipante', [28.2, 29.6]],\n",
       " ['Nutto', [32.1, 33.5]],\n",
       " ['Egnomisa', [34.26, 35.44]],\n",
       " ['Non', [35.44, 36.86]],\n",
       " ['grasso', [36.86, 38.96]],\n",
       " ['Lesciacope', [41.7, 43.14]]]"
      ]
     },
     "execution_count": 14,
     "metadata": {},
     "output_type": "execute_result"
    }
   ],
   "source": [
    "cleaned_words"
   ]
  },
  {
   "cell_type": "code",
   "execution_count": 15,
   "id": "d8dcf489",
   "metadata": {},
   "outputs": [],
   "source": [
    "final_words = correct_segments(cleaned_words, matched_row[\"config_list\"].values[0]) #  adapts guessed words using targets"
   ]
  },
  {
   "cell_type": "code",
   "execution_count": 16,
   "id": "a7a98290",
   "metadata": {},
   "outputs": [
    {
     "data": {
      "text/plain": [
       "[['nostro', [5.02, 5.72]],\n",
       " ['Bismaggo', [8.12, 9.52]],\n",
       " ['velone', [11.2, 11.94]],\n",
       " ['dinare', [13.1, 15.62]],\n",
       " [\"d'orca\", [15.62, 17.42]],\n",
       " ['bolleggio', [19.2, 20.16]],\n",
       " ['Caglietapo', [23.86, 25.26]],\n",
       " ['Nacchipante', [28.2, 29.6]],\n",
       " ['Nutto', [32.1, 33.5]],\n",
       " ['Egnomisa', [34.26, 35.44]],\n",
       " ['grasso', [36.86, 38.96]],\n",
       " ['Lesciacope', [41.7, 43.14]]]"
      ]
     },
     "execution_count": 16,
     "metadata": {},
     "output_type": "execute_result"
    }
   ],
   "source": [
    "final_words"
   ]
  },
  {
   "cell_type": "code",
   "execution_count": 17,
   "id": "448ef478",
   "metadata": {},
   "outputs": [],
   "source": [
    "replaced_words = replace_whisper_words_with_reference(final_words, matched_row[\"config_list\"].values[0]) # replace guessed words with target words"
   ]
  },
  {
   "cell_type": "code",
   "execution_count": 18,
   "id": "f0f091df",
   "metadata": {},
   "outputs": [],
   "source": [
    "# dataframe of a single line : file_name and final_words\n",
    "df_final = pd.DataFrame({\n",
    "    \"file_name\": [os.path.basename(wav_file)],\n",
    "    \"final_words\": [replaced_words]\n",
    "})"
   ]
  },
  {
   "cell_type": "code",
   "execution_count": 19,
   "id": "595ef700",
   "metadata": {},
   "outputs": [
    {
     "data": {
      "text/html": [
       "<div>\n",
       "<style scoped>\n",
       "    .dataframe tbody tr th:only-of-type {\n",
       "        vertical-align: middle;\n",
       "    }\n",
       "\n",
       "    .dataframe tbody tr th {\n",
       "        vertical-align: top;\n",
       "    }\n",
       "\n",
       "    .dataframe thead th {\n",
       "        text-align: right;\n",
       "    }\n",
       "</style>\n",
       "<table border=\"1\" class=\"dataframe\">\n",
       "  <thead>\n",
       "    <tr style=\"text-align: right;\">\n",
       "      <th></th>\n",
       "      <th>file_name</th>\n",
       "      <th>final_words</th>\n",
       "    </tr>\n",
       "  </thead>\n",
       "  <tbody>\n",
       "    <tr>\n",
       "      <th>0</th>\n",
       "      <td>102_edugame2023_32c4a5e851c1431aba3aa409e3be81...</td>\n",
       "      <td>[[ostro, [5.02, 5.72]], [bismaggo, [8.12, 9.52...</td>\n",
       "    </tr>\n",
       "  </tbody>\n",
       "</table>\n",
       "</div>"
      ],
      "text/plain": [
       "                                           file_name  \\\n",
       "0  102_edugame2023_32c4a5e851c1431aba3aa409e3be81...   \n",
       "\n",
       "                                         final_words  \n",
       "0  [[ostro, [5.02, 5.72]], [bismaggo, [8.12, 9.52...  "
      ]
     },
     "execution_count": 19,
     "metadata": {},
     "output_type": "execute_result"
    }
   ],
   "source": [
    "df_final"
   ]
  },
  {
   "cell_type": "code",
   "execution_count": 20,
   "id": "b923730f",
   "metadata": {},
   "outputs": [],
   "source": [
    "# save the replaced words to the CSV file\n",
    "output_csv = \"final_words.csv\"\n",
    "df_final.to_csv(output_csv, index=False)"
   ]
  },
  {
   "cell_type": "code",
   "execution_count": 2,
   "id": "cb14dcda",
   "metadata": {},
   "outputs": [],
   "source": [
    "import pandas as pd\n",
    "file = \"/Users/melina/Desktop/Hackathon/Hackathon_ASR/1_Ground_truth/Phoneme_Deleletion_ground_truth_FR.csv\"\n",
    "df_old = pd.read_csv(file)\n",
    "df_new = df_old.copy()\n",
    "# keep only file_name and config_list\n",
    "df_new = df_new[[\"file_name\", \"config_id\", \"config\", \"API_target\"]]"
   ]
  },
  {
   "cell_type": "code",
   "execution_count": 3,
   "id": "0002857a",
   "metadata": {},
   "outputs": [
    {
     "data": {
      "text/html": [
       "<div>\n",
       "<style scoped>\n",
       "    .dataframe tbody tr th:only-of-type {\n",
       "        vertical-align: middle;\n",
       "    }\n",
       "\n",
       "    .dataframe tbody tr th {\n",
       "        vertical-align: top;\n",
       "    }\n",
       "\n",
       "    .dataframe thead th {\n",
       "        text-align: right;\n",
       "    }\n",
       "</style>\n",
       "<table border=\"1\" class=\"dataframe\">\n",
       "  <thead>\n",
       "    <tr style=\"text-align: right;\">\n",
       "      <th></th>\n",
       "      <th>file_name</th>\n",
       "      <th>config_id</th>\n",
       "      <th>config</th>\n",
       "      <th>API_target</th>\n",
       "    </tr>\n",
       "  </thead>\n",
       "  <tbody>\n",
       "    <tr>\n",
       "      <th>0</th>\n",
       "      <td>3101_edugame2023_1c148def3c254026adc7a7fdc3edc...</td>\n",
       "      <td>phondel_B_pseudo_8</td>\n",
       "      <td>bromal</td>\n",
       "      <td>[ʁɔmal]</td>\n",
       "    </tr>\n",
       "    <tr>\n",
       "      <th>1</th>\n",
       "      <td>3101_edugame2023_1c148def3c254026adc7a7fdc3edc...</td>\n",
       "      <td>phondel_B_pseudo_6</td>\n",
       "      <td>banéon</td>\n",
       "      <td>[aneɔ̃]</td>\n",
       "    </tr>\n",
       "  </tbody>\n",
       "</table>\n",
       "</div>"
      ],
      "text/plain": [
       "                                           file_name           config_id  \\\n",
       "0  3101_edugame2023_1c148def3c254026adc7a7fdc3edc...  phondel_B_pseudo_8   \n",
       "1  3101_edugame2023_1c148def3c254026adc7a7fdc3edc...  phondel_B_pseudo_6   \n",
       "\n",
       "   config API_target  \n",
       "0  bromal    [ʁɔmal]  \n",
       "1  banéon    [aneɔ̃]  "
      ]
     },
     "execution_count": 3,
     "metadata": {},
     "output_type": "execute_result"
    }
   ],
   "source": [
    "df_new.head(2)"
   ]
  },
  {
   "cell_type": "code",
   "execution_count": 4,
   "id": "e4ea656f",
   "metadata": {},
   "outputs": [],
   "source": [
    "output_csv = \"interface_data_FR.csv\"\n",
    "\n",
    "df_new.to_csv(output_csv, index=False)"
   ]
  },
  {
   "cell_type": "code",
   "execution_count": null,
   "id": "2a7f1440",
   "metadata": {},
   "outputs": [],
   "source": []
  }
 ],
 "metadata": {
  "kernelspec": {
   "display_name": "base",
   "language": "python",
   "name": "python3"
  },
  "language_info": {
   "codemirror_mode": {
    "name": "ipython",
    "version": 3
   },
   "file_extension": ".py",
   "mimetype": "text/x-python",
   "name": "python",
   "nbconvert_exporter": "python",
   "pygments_lexer": "ipython3",
   "version": "3.11.0"
  }
 },
 "nbformat": 4,
 "nbformat_minor": 5
}
